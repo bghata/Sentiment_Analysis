{
  "nbformat": 4,
  "nbformat_minor": 0,
  "metadata": {
    "colab": {
      "name": "Sentiment_Analysis_Galaxy.ipynb",
      "version": "0.3.2",
      "provenance": [],
      "collapsed_sections": [
        "e7nLikfLkd65",
        "R0LKtIrTmiCH",
        "2Q5jarBht2p_",
        "rxhXMt_f_R47",
        "61E_dI2a_uj_",
        "wOtsSWRN6vJY",
        "BmKU6tfD69Bf",
        "_W5MgSgr7EbE",
        "aZ57Q0f68lJv",
        "t1t1QRHz9RGS",
        "uhsxf-WR-zcc",
        "LdRPXa9GAdUp",
        "ln8pltfV0m8S",
        "pH6s3ahpA3Dg",
        "qcWY2BhgBVqV",
        "FPBQtt45B5nz",
        "h43RojW9pU_Z",
        "T5E5vI1wCfWm",
        "rjN5BBGH0dp6",
        "-dhxmQ3_CnY4",
        "0yEyLzQhDLvj",
        "ooj7ELNYDr2i",
        "kWGX1panxel2",
        "y-mZ4O1wEt4b",
        "CYhldsh0zZLa",
        "z7lYfc_zJuVP"
      ],
      "include_colab_link": true
    },
    "kernelspec": {
      "name": "python3",
      "display_name": "Python 3"
    }
  },
  "cells": [
    {
      "cell_type": "markdown",
      "metadata": {
        "id": "view-in-github",
        "colab_type": "text"
      },
      "source": [
        "<a href=\"https://colab.research.google.com/github/bghata/Sentiment_Analysis/blob/master/Sentiment_Analysis_Galaxy.ipynb\" target=\"_parent\"><img src=\"https://colab.research.google.com/assets/colab-badge.svg\" alt=\"Open In Colab\"/></a>"
      ]
    },
    {
      "cell_type": "code",
      "metadata": {
        "id": "-vrqFYlmkA93",
        "colab_type": "code",
        "colab": {}
      },
      "source": [
        "%reload_ext rpy2.ipython\n",
        "\n",
        "import warnings\n",
        "warnings.filterwarnings('ignore')"
      ],
      "execution_count": 0,
      "outputs": []
    },
    {
      "cell_type": "code",
      "metadata": {
        "id": "hbZwGncWkNmg",
        "colab_type": "code",
        "colab": {}
      },
      "source": [
        "%%R\n",
        "install.packages(\"pacman\")\n",
        "library(pacman)"
      ],
      "execution_count": 0,
      "outputs": []
    },
    {
      "cell_type": "markdown",
      "metadata": {
        "id": "e7nLikfLkd65",
        "colab_type": "text"
      },
      "source": [
        "## Loading libraries"
      ]
    },
    {
      "cell_type": "code",
      "metadata": {
        "id": "opI9vSa8khsq",
        "colab_type": "code",
        "colab": {}
      },
      "source": [
        "%%R\n",
        "pacman::p_load(readr, data.table, dplyr,caret, \n",
        "               ggplot2, plotly, lubridate, kernlab,\n",
        "               forecast, ggfortify, stats, tufte, \n",
        "               ggthemes, rapportools, fpp2, gbm, scatterplot3d,\n",
        "               reshape2, Hmisc, rio, VIM, class, spdep, \n",
        "               randomForest, magrittr, Matrix, foreach, \n",
        "               iterators, doParallel, corrplot, C50, e1071, kknn)"
      ],
      "execution_count": 0,
      "outputs": []
    },
    {
      "cell_type": "markdown",
      "metadata": {
        "id": "R0LKtIrTmiCH",
        "colab_type": "text"
      },
      "source": [
        "## Loading data"
      ]
    },
    {
      "cell_type": "code",
      "metadata": {
        "id": "hlPeXj-gquVu",
        "colab_type": "code",
        "colab": {}
      },
      "source": [
        "from google.colab import drive\n",
        "drive.mount('/content/gdrive')"
      ],
      "execution_count": 0,
      "outputs": []
    },
    {
      "cell_type": "code",
      "metadata": {
        "id": "iDZhqIHqqSNi",
        "colab_type": "code",
        "colab": {}
      },
      "source": [
        "%%R\n",
        "galaxy_data <- read_csv('/content/gdrive/My Drive/Colab Notebooks/AWS/galaxy_smallmatrix_labeled_8d.csv')"
      ],
      "execution_count": 0,
      "outputs": []
    },
    {
      "cell_type": "markdown",
      "metadata": {
        "id": "2Q5jarBht2p_",
        "colab_type": "text"
      },
      "source": [
        "## Feature selection"
      ]
    },
    {
      "cell_type": "markdown",
      "metadata": {
        "id": "scb91dVDt7My",
        "colab_type": "text"
      },
      "source": [
        "**Correlation matrix**"
      ]
    },
    {
      "cell_type": "markdown",
      "metadata": {
        "id": "IMCq0zubt-Gd",
        "colab_type": "text"
      },
      "source": [
        "**on galaxy_data**"
      ]
    },
    {
      "cell_type": "code",
      "metadata": {
        "id": "51YzHkfPt_CA",
        "colab_type": "code",
        "outputId": "187fcff9-c37e-4c43-f47a-d8ca9591cc4c",
        "colab": {
          "base_uri": "https://localhost:8080/",
          "height": 497
        }
      },
      "source": [
        "%%R\n",
        "galaxy_cor <- cor(galaxy_data)\n",
        "corrplot(cor(galaxy_cor), method=\"number\", type = \"upper\", \n",
        "tl.cex = 0.5, number.cex = 0.4)"
      ],
      "execution_count": 0,
      "outputs": [
        {
          "output_type": "display_data",
          "data": {
            "image/png": "[encoded data removed]"
          },
          "metadata": {
            "tags": []
          }
        }
      ]
    },
    {
      "cell_type": "markdown",
      "metadata": {
        "id": "rxhXMt_f_R47",
        "colab_type": "text"
      },
      "source": [
        "## Examine feature variance"
      ]
    },
    {
      "cell_type": "markdown",
      "metadata": {
        "id": "jy1eu_H_H1l5",
        "colab_type": "text"
      },
      "source": [
        "**The distribution of values within a feature is related to how much information that feature holds in the data set. Features with no variance can be said to hold little to no information. Features that have very little, or \"near zero variance\", may or may not have useful information.**"
      ]
    },
    {
      "cell_type": "code",
      "metadata": {
        "id": "pDc4MmIl_TXe",
        "colab_type": "code",
        "colab": {}
      },
      "source": [
        "%%R\n",
        "nzvMetrics_galaxy <- nearZeroVar(galaxy_data, saveMetrics = TRUE)"
      ],
      "execution_count": 0,
      "outputs": []
    },
    {
      "cell_type": "markdown",
      "metadata": {
        "id": "n7zZ8B7Q_aqV",
        "colab_type": "text"
      },
      "source": [
        "**nearZeroVar() with saveMetrics = FALSE returns an vector**"
      ]
    },
    {
      "cell_type": "code",
      "metadata": {
        "id": "xWLvV2bc_b_y",
        "colab_type": "code",
        "colab": {}
      },
      "source": [
        "%%R\n",
        "nzv_galaxy <- nearZeroVar(galaxy_data, saveMetrics = FALSE) "
      ],
      "execution_count": 0,
      "outputs": []
    },
    {
      "cell_type": "markdown",
      "metadata": {
        "id": "E8VuCZQS_j9r",
        "colab_type": "text"
      },
      "source": [
        "**NZV - create a new data set and remove near zero variance features**"
      ]
    },
    {
      "cell_type": "code",
      "metadata": {
        "id": "f_0Aq5bw_k-s",
        "colab_type": "code",
        "colab": {}
      },
      "source": [
        "%%R\n",
        "galaxy_NZV <- galaxy_data[,-nzv_galaxy]\n",
        "galaxy_NZV$galaxysentiment <- as.factor(galaxy_NZV$galaxysentiment)"
      ],
      "execution_count": 0,
      "outputs": []
    },
    {
      "cell_type": "markdown",
      "metadata": {
        "id": "61E_dI2a_uj_",
        "colab_type": "text"
      },
      "source": [
        "## Recursive Feature Elimination (RFE)"
      ]
    },
    {
      "cell_type": "markdown",
      "metadata": {
        "id": "3gxuWToh_ynZ",
        "colab_type": "text"
      },
      "source": [
        "**Sampling the data before using RFE**"
      ]
    },
    {
      "cell_type": "markdown",
      "metadata": {
        "id": "Okdjkj0fHwUK",
        "colab_type": "text"
      },
      "source": [
        "**RFE is a form of automated feature selection. RFE with random forest will try every combination of feature subsets and return a final list of recommended features.**"
      ]
    },
    {
      "cell_type": "markdown",
      "metadata": {
        "id": "qV74uVzU_3D8",
        "colab_type": "text"
      },
      "source": [
        "**On galaxy**"
      ]
    },
    {
      "cell_type": "code",
      "metadata": {
        "id": "R9AQTgL5_4Kh",
        "colab_type": "code",
        "colab": {}
      },
      "source": [
        "%%R\n",
        "set.seed(123)\n",
        "galaxy_data$galaxysentiment <- as.factor(galaxy_data$galaxysentiment)\n",
        "galaxySample <- galaxy_data[sample(1:nrow(galaxy_data), 1000, replace=FALSE),]"
      ],
      "execution_count": 0,
      "outputs": []
    },
    {
      "cell_type": "markdown",
      "metadata": {
        "id": "nsR1W_et_9kV",
        "colab_type": "text"
      },
      "source": [
        "**Set up rfeControl with randomforest, repeated cross validation and no updates**"
      ]
    },
    {
      "cell_type": "code",
      "metadata": {
        "id": "CTcYQ7lz_-eP",
        "colab_type": "code",
        "colab": {}
      },
      "source": [
        "%%R\n",
        "ctrl <- rfeControl(functions = rfFuncs, \n",
        "                   method = \"repeatedcv\",\n",
        "                   repeats = 5,\n",
        "                   verbose = FALSE)"
      ],
      "execution_count": 0,
      "outputs": []
    },
    {
      "cell_type": "markdown",
      "metadata": {
        "id": "OejYvpo_ACVx",
        "colab_type": "text"
      },
      "source": [
        "**Use rfe and omit the response variable (attribute 59 iphonesentiment)**"
      ]
    },
    {
      "cell_type": "code",
      "metadata": {
        "id": "RDIwqMbEADI_",
        "colab_type": "code",
        "colab": {}
      },
      "source": [
        "%%R\n",
        "rfeResults_galaxy <- rfe(galaxySample[,1:58], \n",
        "                  galaxySample$galaxysentiment, \n",
        "                  sizes=(1:58), \n",
        "                  rfeControl=ctrl)\n",
        "rfeResults_galaxy"
      ],
      "execution_count": 0,
      "outputs": []
    },
    {
      "cell_type": "markdown",
      "metadata": {
        "id": "fCuSiKho3aV6",
        "colab_type": "text"
      },
      "source": [
        "**Loading model rfeResults_iphone**"
      ]
    },
    {
      "cell_type": "code",
      "metadata": {
        "id": "hL9VDhKJ5BKB",
        "colab_type": "code",
        "colab": {}
      },
      "source": [
        "%%R\n",
        "rfeResults_galaxy <- readRDS(\"/content/gdrive/My Drive/Colab Notebooks/AWS/rfeResults_galaxy.RDS\")"
      ],
      "execution_count": 0,
      "outputs": []
    },
    {
      "cell_type": "markdown",
      "metadata": {
        "id": "tbaPDJJlMSpM",
        "colab_type": "text"
      },
      "source": [
        "**Plot results**"
      ]
    },
    {
      "cell_type": "code",
      "metadata": {
        "id": "JwpXMTCNMUiQ",
        "colab_type": "code",
        "outputId": "5d370760-a5f4-4cb8-d812-d85fff1d0784",
        "colab": {
          "base_uri": "https://localhost:8080/",
          "height": 497
        }
      },
      "source": [
        "%%R\n",
        "plot(rfeResults_galaxy, type=c(\"g\", \"o\"))"
      ],
      "execution_count": 0,
      "outputs": [
        {
          "output_type": "display_data",
          "data": {
            "image/png": "[encoded data removed]"
          },
          "metadata": {
            "tags": []
          }
        }
      ]
    },
    {
      "cell_type": "markdown",
      "metadata": {
        "id": "Phw3aqqQ6hNn",
        "colab_type": "text"
      },
      "source": [
        "**Create new data set with rfe recommended features on galaxy**"
      ]
    },
    {
      "cell_type": "code",
      "metadata": {
        "id": "sC9PZJv66juf",
        "colab_type": "code",
        "colab": {}
      },
      "source": [
        "%%R\n",
        "galaxy_RFE <- galaxy_data[, predictors(rfeResults_galaxy)]"
      ],
      "execution_count": 0,
      "outputs": []
    },
    {
      "cell_type": "markdown",
      "metadata": {
        "id": "7g093pxu6pNz",
        "colab_type": "text"
      },
      "source": [
        "**Add dependent variable to galaxy_RFE**"
      ]
    },
    {
      "cell_type": "code",
      "metadata": {
        "id": "O9osI9VD6p7O",
        "colab_type": "code",
        "colab": {}
      },
      "source": [
        "%%R\n",
        "galaxy_RFE$galaxysentiment <- galaxy_data$galaxysentiment"
      ],
      "execution_count": 0,
      "outputs": []
    },
    {
      "cell_type": "markdown",
      "metadata": {
        "id": "wOtsSWRN6vJY",
        "colab_type": "text"
      },
      "source": [
        "# Testing 4 different models on galaxy"
      ]
    },
    {
      "cell_type": "markdown",
      "metadata": {
        "id": "BmKU6tfD69Bf",
        "colab_type": "text"
      },
      "source": [
        "## Data partition on galaxy"
      ]
    },
    {
      "cell_type": "code",
      "metadata": {
        "id": "KX1vtVTe69sB",
        "colab_type": "code",
        "colab": {}
      },
      "source": [
        "%%R\n",
        "trainData1 <- createDataPartition(galaxy_data$galaxysentiment,\n",
        "                                p=0.70,\n",
        "                                list = FALSE)\n",
        "trainSet1 <- galaxy_data[trainData1, ]\n",
        "testSet1 <- galaxy_data[-trainData1, ]"
      ],
      "execution_count": 0,
      "outputs": []
    },
    {
      "cell_type": "markdown",
      "metadata": {
        "id": "_W5MgSgr7EbE",
        "colab_type": "text"
      },
      "source": [
        "## Random Forest model on galaxy"
      ]
    },
    {
      "cell_type": "code",
      "metadata": {
        "id": "Gz4y_f5g7FTt",
        "colab_type": "code",
        "colab": {}
      },
      "source": [
        "%%R\n",
        "fitControl <- trainControl(method = \"repeatedcv\",\n",
        "                     number = 10,\n",
        "                     repeats = 1)"
      ],
      "execution_count": 0,
      "outputs": []
    },
    {
      "cell_type": "code",
      "metadata": {
        "id": "ogh_ClVq7QOd",
        "colab_type": "code",
        "colab": {}
      },
      "source": [
        "rf_galaxy <- randomForest(galaxysentiment ~.,\n",
        "                             data = trainSet1,\n",
        "                             ntree = 100,\n",
        "                             mtry = 2,\n",
        "                             do.trace = TRUE,\n",
        "                             trControl = fitControl,\n",
        "                             imporve = 0.05,\n",
        "                             nodesize = 5)"
      ],
      "execution_count": 0,
      "outputs": []
    },
    {
      "cell_type": "markdown",
      "metadata": {
        "id": "-Uvrc5847Vgj",
        "colab_type": "text"
      },
      "source": [
        "**Loading model rf_galaxy**"
      ]
    },
    {
      "cell_type": "code",
      "metadata": {
        "id": "2KfA2-0d7Zq0",
        "colab_type": "code",
        "colab": {}
      },
      "source": [
        "%%R\n",
        "rf_galaxy <- readRDS(\"/content/gdrive/My Drive/Colab Notebooks/AWS/rf_galaxy.RDS\")"
      ],
      "execution_count": 0,
      "outputs": []
    },
    {
      "cell_type": "markdown",
      "metadata": {
        "id": "Gf_m1qpG7sgU",
        "colab_type": "text"
      },
      "source": [
        "**Testing Random Forest model on testSet1**"
      ]
    },
    {
      "cell_type": "code",
      "metadata": {
        "id": "mogFqO7N7tUS",
        "colab_type": "code",
        "colab": {}
      },
      "source": [
        "%%R\n",
        "RF_Pred_galaxy <- predict(rf_galaxy, newdata = testSet1)\n",
        "RF_CM_galaxy <- confusionMatrix(RF_Pred_galaxy, testSet1$galaxysentiment)"
      ],
      "execution_count": 0,
      "outputs": []
    },
    {
      "cell_type": "code",
      "metadata": {
        "id": "TEpSlhR28ONS",
        "colab_type": "code",
        "outputId": "800fa224-7180-47ab-d581-59b963c6962b",
        "colab": {
          "base_uri": "https://localhost:8080/",
          "height": 52
        }
      },
      "source": [
        "%%R\n",
        "postResample(RF_Pred_galaxy, testSet1$galaxysentiment)"
      ],
      "execution_count": 0,
      "outputs": [
        {
          "output_type": "display_data",
          "data": {
            "text/plain": [
              " Accuracy     Kappa \n",
              "0.7243507 0.4055483 \n"
            ]
          },
          "metadata": {
            "tags": []
          }
        }
      ]
    },
    {
      "cell_type": "markdown",
      "metadata": {
        "id": "aZ57Q0f68lJv",
        "colab_type": "text"
      },
      "source": [
        "## KKNN model on galaxy"
      ]
    },
    {
      "cell_type": "code",
      "metadata": {
        "id": "0rjvwiJP8mS1",
        "colab_type": "code",
        "colab": {}
      },
      "source": [
        "%%R\n",
        "fitControl <- trainControl(method = \"repeatedcv\",\n",
        "                     number = 10,\n",
        "                     repeats = 1)"
      ],
      "execution_count": 0,
      "outputs": []
    },
    {
      "cell_type": "code",
      "metadata": {
        "id": "_IyYQBzI8v8Z",
        "colab_type": "code",
        "colab": {}
      },
      "source": [
        "%%R\n",
        "kknn_galaxy <- train(galaxysentiment ~.,\n",
        "                               data = trainSet1,\n",
        "                               method = 'kknn',\n",
        "                               tuneLength = 5,\n",
        "                               trControl = fitControl)"
      ],
      "execution_count": 0,
      "outputs": []
    },
    {
      "cell_type": "markdown",
      "metadata": {
        "id": "TPBd7IIj8zNF",
        "colab_type": "text"
      },
      "source": [
        "**Loading model kknn_galaxy**"
      ]
    },
    {
      "cell_type": "code",
      "metadata": {
        "id": "ey2yp21V8QlO",
        "colab_type": "code",
        "colab": {}
      },
      "source": [
        "%%R\n",
        "kknn_galaxy <- readRDS(\"/content/gdrive/My Drive/Colab Notebooks/AWS/kknn_galaxy.RDS\")"
      ],
      "execution_count": 0,
      "outputs": []
    },
    {
      "cell_type": "markdown",
      "metadata": {
        "id": "G3r58Sqx9D7H",
        "colab_type": "text"
      },
      "source": [
        "**Testing KKNN model on testSet1**"
      ]
    },
    {
      "cell_type": "code",
      "metadata": {
        "id": "9TlujxaH9ElN",
        "colab_type": "code",
        "colab": {}
      },
      "source": [
        "%%R\n",
        "kknn_Pred_galaxy <- predict(kknn_galaxy, newdata = testSet1)\n",
        "kknn_CM_galaxy <- confusionMatrix(kknn_Pred_galaxy, testSet1$galaxysentiment)"
      ],
      "execution_count": 0,
      "outputs": []
    },
    {
      "cell_type": "code",
      "metadata": {
        "id": "icOFp2fi9Iw4",
        "colab_type": "code",
        "outputId": "2ce8638f-e1b7-4617-a16b-9b5119da0627",
        "colab": {
          "base_uri": "https://localhost:8080/",
          "height": 52
        }
      },
      "source": [
        "%%R\n",
        "postResample(kknn_Pred_galaxy, testSet1$galaxysentiment)"
      ],
      "execution_count": 0,
      "outputs": [
        {
          "output_type": "display_data",
          "data": {
            "text/plain": [
              " Accuracy     Kappa \n",
              "0.3623039 0.2015648 \n"
            ]
          },
          "metadata": {
            "tags": []
          }
        }
      ]
    },
    {
      "cell_type": "markdown",
      "metadata": {
        "id": "t1t1QRHz9RGS",
        "colab_type": "text"
      },
      "source": [
        "## Gradient Boosting Trees model on galaxy"
      ]
    },
    {
      "cell_type": "code",
      "metadata": {
        "id": "v6f--wve9Snx",
        "colab_type": "code",
        "colab": {}
      },
      "source": [
        "%%R\n",
        "myGrid <- expand.grid(n.trees = c(250), \n",
        "                      interaction.depth = 1, \n",
        "                      shrinkage = c(0.1),\n",
        "                      n.minobsinnode = 20"
      ],
      "execution_count": 0,
      "outputs": []
    },
    {
      "cell_type": "code",
      "metadata": {
        "id": "n8CcAO429a9x",
        "colab_type": "code",
        "colab": {}
      },
      "source": [
        "GB_galaxy <- train((galaxysentiment ~ .), \n",
        "                      data = trainSet1, \n",
        "                      method = \"gbm\",\n",
        "                      trControl = fitControl,\n",
        "                      tuneGrid = myGrid)"
      ],
      "execution_count": 0,
      "outputs": []
    },
    {
      "cell_type": "markdown",
      "metadata": {
        "id": "P9-t89xs9ofs",
        "colab_type": "text"
      },
      "source": [
        "**Loading model GB_galaxy**"
      ]
    },
    {
      "cell_type": "code",
      "metadata": {
        "id": "VKDzK8J39tcp",
        "colab_type": "code",
        "colab": {}
      },
      "source": [
        "%%R\n",
        "GB_galaxy <- readRDS(\"/content/gdrive/My Drive/Colab Notebooks/AWS/GB_galaxy.RDS\")"
      ],
      "execution_count": 0,
      "outputs": []
    },
    {
      "cell_type": "markdown",
      "metadata": {
        "id": "9CTqbR26-nWy",
        "colab_type": "text"
      },
      "source": [
        "**Testing Gradient Boosting Trees model on testSet1**"
      ]
    },
    {
      "cell_type": "code",
      "metadata": {
        "id": "ONbQUVZW-oMf",
        "colab_type": "code",
        "colab": {}
      },
      "source": [
        "%%R\n",
        "GB_Pred_galaxy <- predict(GB_galaxy, newdata = testSet1)\n",
        "GB_CM_galaxy <- confusionMatrix(GB_Pred_galaxy, testSet1$galaxysentiment)"
      ],
      "execution_count": 0,
      "outputs": []
    },
    {
      "cell_type": "code",
      "metadata": {
        "id": "8qE1ewGb-rij",
        "colab_type": "code",
        "outputId": "3a33a16a-6a7a-453a-e98f-ecfb6008a210",
        "colab": {
          "base_uri": "https://localhost:8080/",
          "height": 52
        }
      },
      "source": [
        "%%R\n",
        "postResample(GB_Pred_galaxy, testSet1$galaxysentiment)"
      ],
      "execution_count": 0,
      "outputs": [
        {
          "output_type": "display_data",
          "data": {
            "text/plain": [
              " Accuracy     Kappa \n",
              "0.7729493 0.5416980 \n"
            ]
          },
          "metadata": {
            "tags": []
          }
        }
      ]
    },
    {
      "cell_type": "markdown",
      "metadata": {
        "id": "uhsxf-WR-zcc",
        "colab_type": "text"
      },
      "source": [
        "## SVM model on galaxy"
      ]
    },
    {
      "cell_type": "code",
      "metadata": {
        "id": "f-lGahFs-067",
        "colab_type": "code",
        "colab": {}
      },
      "source": [
        "%%R\n",
        "fitControl <- trainControl(method = \"repeatedcv\",\n",
        "                           number = 10,\n",
        "                           repeats = 3,\n",
        "                           verboseIter = T)"
      ],
      "execution_count": 0,
      "outputs": []
    },
    {
      "cell_type": "code",
      "metadata": {
        "id": "qS5yzWTx-3GB",
        "colab_type": "code",
        "colab": {}
      },
      "source": [
        "%%R\n",
        "svm_galaxy <- train(galaxysentiment ~., data = trainSet1,\n",
        "              method = \"svmLinear\",\n",
        "              trControl= fitControl,\n",
        "              preProcess = c(\"center\", \"scale\"))"
      ],
      "execution_count": 0,
      "outputs": []
    },
    {
      "cell_type": "markdown",
      "metadata": {
        "id": "Cd3PtS9D-7Sv",
        "colab_type": "text"
      },
      "source": [
        "**Loading model svm_galaxy**"
      ]
    },
    {
      "cell_type": "code",
      "metadata": {
        "id": "YqlobA8l_DkY",
        "colab_type": "code",
        "colab": {}
      },
      "source": [
        "%%R\n",
        "svm_galaxy <- readRDS(\"/content/gdrive/My Drive/Colab Notebooks/AWS/svm_galaxy.RDS\")"
      ],
      "execution_count": 0,
      "outputs": []
    },
    {
      "cell_type": "markdown",
      "metadata": {
        "id": "zu0UJobJ_Nqf",
        "colab_type": "text"
      },
      "source": [
        "**Testing SVM model on testSet1**"
      ]
    },
    {
      "cell_type": "code",
      "metadata": {
        "id": "79oV5spa_OVP",
        "colab_type": "code",
        "colab": {}
      },
      "source": [
        "%%R\n",
        "SVM_Pred_galaxy <- predict(svm_galaxy, newdata = testSet1)\n",
        "SVM_CM_galaxy <- confusionMatrix(SVM_Pred_galaxy, testSet1$galaxysentiment)"
      ],
      "execution_count": 0,
      "outputs": []
    },
    {
      "cell_type": "code",
      "metadata": {
        "id": "Jsk7iMDz_YIc",
        "colab_type": "code",
        "outputId": "b038d124-30e9-4912-d140-16b3bdbc836e",
        "colab": {
          "base_uri": "https://localhost:8080/",
          "height": 52
        }
      },
      "source": [
        "%%R\n",
        "postResample(SVM_Pred_galaxy, testSet1$galaxysentiment)"
      ],
      "execution_count": 0,
      "outputs": [
        {
          "output_type": "display_data",
          "data": {
            "text/plain": [
              " Accuracy     Kappa \n",
              "0.7446644 0.4670412 \n"
            ]
          },
          "metadata": {
            "tags": []
          }
        }
      ]
    },
    {
      "cell_type": "markdown",
      "metadata": {
        "id": "LdRPXa9GAdUp",
        "colab_type": "text"
      },
      "source": [
        "# Testing all 4  models on galaxy_NZV"
      ]
    },
    {
      "cell_type": "markdown",
      "metadata": {
        "id": "ln8pltfV0m8S",
        "colab_type": "text"
      },
      "source": [
        "## Data partition on galaxy_NZV"
      ]
    },
    {
      "cell_type": "code",
      "metadata": {
        "id": "ACWv3KnxAjLN",
        "colab_type": "code",
        "colab": {}
      },
      "source": [
        "%%R\n",
        "trainData2 <- createDataPartition(galaxy_NZV$galaxysentiment,\n",
        "                                  p=0.70,\n",
        "                                  list = FALSE)\n",
        "trainSet2 <- galaxy_NZV[trainData2, ]\n",
        "testSet2 <- galaxy_NZV[-trainData2, ]"
      ],
      "execution_count": 0,
      "outputs": []
    },
    {
      "cell_type": "markdown",
      "metadata": {
        "id": "pH6s3ahpA3Dg",
        "colab_type": "text"
      },
      "source": [
        "## Random Forest model on galaxy_NZV"
      ]
    },
    {
      "cell_type": "code",
      "metadata": {
        "id": "o8lQLmCsA3yE",
        "colab_type": "code",
        "colab": {}
      },
      "source": [
        "%%R\n",
        "fitControl <- trainControl(method = \"repeatedcv\",\n",
        "                           number = 10,\n",
        "                           repeats = 1)"
      ],
      "execution_count": 0,
      "outputs": []
    },
    {
      "cell_type": "code",
      "metadata": {
        "id": "X0TGMAAtA57M",
        "colab_type": "code",
        "colab": {}
      },
      "source": [
        "%%R\n",
        "rf_galaxy_NZV <- randomForest(galaxysentiment ~.,\n",
        "                          data = trainSet2,\n",
        "                          ntree = 100,\n",
        "                          mtry = 2,\n",
        "                          do.trace = TRUE,\n",
        "                          trControl = fitControl,\n",
        "                          imporve = 0.05,\n",
        "                          nodesize = 5)"
      ],
      "execution_count": 0,
      "outputs": []
    },
    {
      "cell_type": "markdown",
      "metadata": {
        "id": "wyOQwdNTA_ia",
        "colab_type": "text"
      },
      "source": [
        "**Loaading model rf_galaxy_NZV**"
      ]
    },
    {
      "cell_type": "code",
      "metadata": {
        "id": "pfB2Q_a4BBxT",
        "colab_type": "code",
        "colab": {}
      },
      "source": [
        "%%R\n",
        "rf_galaxy_NZV <- readRDS(\"/content/gdrive/My Drive/Colab Notebooks/AWS/rf_galaxy_NZV.RDS\")"
      ],
      "execution_count": 0,
      "outputs": []
    },
    {
      "cell_type": "markdown",
      "metadata": {
        "id": "fGYckMyxBJ5L",
        "colab_type": "text"
      },
      "source": [
        "**Testing Random Forest model on testSet2**"
      ]
    },
    {
      "cell_type": "code",
      "metadata": {
        "id": "w88Vr3ePBKg8",
        "colab_type": "code",
        "colab": {}
      },
      "source": [
        "%%R\n",
        "RF_Pred_galaxy_NZV <- predict(rf_galaxy_NZV, newdata = testSet2)\n",
        "RF_CM_galaxy_NZV <- confusionMatrix(RF_Pred_galaxy_NZV, testSet2$galaxysentiment)"
      ],
      "execution_count": 0,
      "outputs": []
    },
    {
      "cell_type": "code",
      "metadata": {
        "id": "7v1_WE7IBQgm",
        "colab_type": "code",
        "outputId": "0798990b-05f8-474b-8409-0be112cd0893",
        "colab": {
          "base_uri": "https://localhost:8080/",
          "height": 52
        }
      },
      "source": [
        "%%R\n",
        "postResample(RF_Pred_galaxy_NZV, testSet2$galaxysentiment)"
      ],
      "execution_count": 0,
      "outputs": [
        {
          "output_type": "display_data",
          "data": {
            "text/plain": [
              " Accuracy     Kappa \n",
              "0.7865775 0.5678049 \n"
            ]
          },
          "metadata": {
            "tags": []
          }
        }
      ]
    },
    {
      "cell_type": "markdown",
      "metadata": {
        "id": "qcWY2BhgBVqV",
        "colab_type": "text"
      },
      "source": [
        "## Gradient Boosting Trees model on galaxy_NZV "
      ]
    },
    {
      "cell_type": "code",
      "metadata": {
        "id": "HU8vcqJTBXQY",
        "colab_type": "code",
        "colab": {}
      },
      "source": [
        "%%R\n",
        "myGrid <- expand.grid(n.trees = c(250), \n",
        "                      interaction.depth = 1, \n",
        "                      shrinkage = c(0.1),\n",
        "                      n.minobsinnode = 20)"
      ],
      "execution_count": 0,
      "outputs": []
    },
    {
      "cell_type": "code",
      "metadata": {
        "id": "iu2eZsUIBZf-",
        "colab_type": "code",
        "colab": {}
      },
      "source": [
        "%%R\n",
        "GB_galaxy_NZV <- train((galaxysentiment ~ .), \n",
        "                   data = trainSet2, \n",
        "                   method = \"gbm\",\n",
        "                   trControl = fitControl,\n",
        "                   tuneGrid = myGrid)"
      ],
      "execution_count": 0,
      "outputs": []
    },
    {
      "cell_type": "code",
      "metadata": {
        "id": "R6-n6cWlBSn9",
        "colab_type": "code",
        "colab": {}
      },
      "source": [
        "%%R\n",
        "GB_galaxy_NZV <- readRDS(\"/content/gdrive/My Drive/Colab Notebooks/AWS/GB_galaxy_NZV.RDS\")"
      ],
      "execution_count": 0,
      "outputs": []
    },
    {
      "cell_type": "markdown",
      "metadata": {
        "id": "oEIPhfjSBptX",
        "colab_type": "text"
      },
      "source": [
        "**Testing Gradient Boosting Trees model on testSet2**"
      ]
    },
    {
      "cell_type": "code",
      "metadata": {
        "id": "U4S6N-FCBqQM",
        "colab_type": "code",
        "colab": {}
      },
      "source": [
        "%%R\n",
        "GB_Pred_galaxy_NZV <- predict(GB_galaxy_NZV, newdata = testSet2)\n",
        "GB_CM_galaxy_NZV <- confusionMatrix(GB_Pred_galaxy_NZV, testSet2$galaxysentiment)"
      ],
      "execution_count": 0,
      "outputs": []
    },
    {
      "cell_type": "code",
      "metadata": {
        "id": "gNV7Mp71BsMN",
        "colab_type": "code",
        "outputId": "a2bd02f8-9177-4301-e10e-b85a3f60c684",
        "colab": {
          "base_uri": "https://localhost:8080/",
          "height": 52
        }
      },
      "source": [
        "%%R\n",
        "postResample(GB_Pred_galaxy_NZV, testSet2$galaxysentiment)"
      ],
      "execution_count": 0,
      "outputs": [
        {
          "output_type": "display_data",
          "data": {
            "text/plain": [
              " Accuracy     Kappa \n",
              "0.7490357 0.4846856 \n"
            ]
          },
          "metadata": {
            "tags": []
          }
        }
      ]
    },
    {
      "cell_type": "markdown",
      "metadata": {
        "id": "FPBQtt45B5nz",
        "colab_type": "text"
      },
      "source": [
        "## SVM model on galaxy_NZV"
      ]
    },
    {
      "cell_type": "code",
      "metadata": {
        "id": "HaM-iQUhB6_P",
        "colab_type": "code",
        "colab": {}
      },
      "source": [
        "%%R\n",
        "fitControl <- trainControl(method = \"repeatedcv\",\n",
        "                           number = 10,\n",
        "                           repeats = 3,\n",
        "                           verboseIter = T)"
      ],
      "execution_count": 0,
      "outputs": []
    },
    {
      "cell_type": "code",
      "metadata": {
        "id": "kBhzldXMB99u",
        "colab_type": "code",
        "colab": {}
      },
      "source": [
        "%%R\n",
        "svm_galaxy_NZV <- train(galaxysentiment ~., data = trainSet2,\n",
        "                        method = \"svmLinear\",\n",
        "                        trControl= fitControl,\n",
        "                        preProcess = c(\"center\", \"scale\"))"
      ],
      "execution_count": 0,
      "outputs": []
    },
    {
      "cell_type": "markdown",
      "metadata": {
        "id": "oMyXgbZACA-v",
        "colab_type": "text"
      },
      "source": [
        "**Loading model svm_galaxy_NZV**"
      ]
    },
    {
      "cell_type": "code",
      "metadata": {
        "id": "SzZVmgC9CKZl",
        "colab_type": "code",
        "colab": {}
      },
      "source": [
        "%%R\n",
        "svm_galaxy_NZV <- readRDS(\"/content/gdrive/My Drive/Colab Notebooks/AWS/svm_galaxy_NZV.RDS\")"
      ],
      "execution_count": 0,
      "outputs": []
    },
    {
      "cell_type": "markdown",
      "metadata": {
        "id": "mvA_M6B6CRXJ",
        "colab_type": "text"
      },
      "source": [
        "**Testing SVM model on testSet2**"
      ]
    },
    {
      "cell_type": "code",
      "metadata": {
        "id": "ypDUarhTCSAV",
        "colab_type": "code",
        "colab": {}
      },
      "source": [
        "%%R\n",
        "SVM_Pred_galaxy_NZV <- predict(svm_galaxy_NZV, newdata = testSet2)\n",
        "SVM_CM_galaxy_NZV <- confusionMatrix(SVM_Pred_galaxy_NZV, testSet2$galaxysentiment)"
      ],
      "execution_count": 0,
      "outputs": []
    },
    {
      "cell_type": "code",
      "metadata": {
        "id": "b6JpeIICCTw7",
        "colab_type": "code",
        "outputId": "2a2b7ce1-0b04-45c7-825b-cd86c16f965b",
        "colab": {
          "base_uri": "https://localhost:8080/",
          "height": 52
        }
      },
      "source": [
        "%%R\n",
        "postResample(SVM_Pred_galaxy_NZV, testSet2$galaxysentiment)"
      ],
      "execution_count": 0,
      "outputs": [
        {
          "output_type": "display_data",
          "data": {
            "text/plain": [
              " Accuracy     Kappa \n",
              "0.7184366 0.4104403 \n"
            ]
          },
          "metadata": {
            "tags": []
          }
        }
      ]
    },
    {
      "cell_type": "markdown",
      "metadata": {
        "id": "h43RojW9pU_Z",
        "colab_type": "text"
      },
      "source": [
        "## KKNN model on galaxy_NZV"
      ]
    },
    {
      "cell_type": "code",
      "metadata": {
        "id": "LE_81_4cpXeP",
        "colab_type": "code",
        "colab": {}
      },
      "source": [
        "%%R\n",
        "fitControl <- trainControl(method = \"repeatedcv\",\n",
        "                     number = 10,\n",
        "                     repeats = 1)"
      ],
      "execution_count": 0,
      "outputs": []
    },
    {
      "cell_type": "code",
      "metadata": {
        "id": "VZG2Juhfpkqt",
        "colab_type": "code",
        "colab": {}
      },
      "source": [
        "%%R\n",
        "kknn_galaxy_NZV <- train(galaxysentiment ~.,\n",
        "                               data = trainSet2,\n",
        "                               method = 'kknn',\n",
        "                               tuneLength = 5,\n",
        "                               trControl = fitControl)"
      ],
      "execution_count": 0,
      "outputs": []
    },
    {
      "cell_type": "markdown",
      "metadata": {
        "id": "jaVIJPKgtpSO",
        "colab_type": "text"
      },
      "source": [
        "**Loading model kknn_galaxy_NZV**"
      ]
    },
    {
      "cell_type": "code",
      "metadata": {
        "id": "07HN1h1Oprpf",
        "colab_type": "code",
        "colab": {}
      },
      "source": [
        "%%R\n",
        "kknn_galaxy_NZV <- readRDS(\"/content/gdrive/My Drive/Colab Notebooks/AWS/kknn_galaxy_NZV.RDS\")"
      ],
      "execution_count": 0,
      "outputs": []
    },
    {
      "cell_type": "markdown",
      "metadata": {
        "id": "qk5e2gAIuHff",
        "colab_type": "text"
      },
      "source": [
        "**Testing KKNN model on testSet2**"
      ]
    },
    {
      "cell_type": "code",
      "metadata": {
        "id": "khmpN2dGuIuw",
        "colab_type": "code",
        "colab": {}
      },
      "source": [
        "%%R\n",
        "kknn_Pred_galaxy_NZV <- predict(kknn_galaxy_NZV, newdata = testSet2)\n",
        "kknn_CM_galaxy_NZV <- confusionMatrix(kknn_Pred_galaxy_NZV, testSet2$galaxysentiment)"
      ],
      "execution_count": 0,
      "outputs": []
    },
    {
      "cell_type": "code",
      "metadata": {
        "id": "BnWR74tyuTv9",
        "colab_type": "code",
        "outputId": "7d131180-ae49-4f3f-b7f8-690444b52378",
        "colab": {
          "base_uri": "https://localhost:8080/",
          "height": 52
        }
      },
      "source": [
        "%%R\n",
        "postResample(kknn_Pred_galaxy_NZV, testSet2$galaxysentiment)"
      ],
      "execution_count": 0,
      "outputs": [
        {
          "output_type": "display_data",
          "data": {
            "text/plain": [
              " Accuracy     Kappa \n",
              "0.3471329 0.1799509 \n"
            ]
          },
          "metadata": {
            "tags": []
          }
        }
      ]
    },
    {
      "cell_type": "markdown",
      "metadata": {
        "id": "T5E5vI1wCfWm",
        "colab_type": "text"
      },
      "source": [
        "# Testing all 4 models on galaxy_RFE"
      ]
    },
    {
      "cell_type": "markdown",
      "metadata": {
        "id": "rjN5BBGH0dp6",
        "colab_type": "text"
      },
      "source": [
        "## Data partition on galaxy_RFE"
      ]
    },
    {
      "cell_type": "code",
      "metadata": {
        "id": "5iGqxcvdCgnC",
        "colab_type": "code",
        "colab": {}
      },
      "source": [
        "%%R\n",
        "trainData3 <- createDataPartition(galaxy_RFE$galaxysentiment,\n",
        "                                  p=0.70,\n",
        "                                  list = FALSE)\n",
        "trainSet3 <- galaxy_RFE[trainData3, ]\n",
        "testSet3 <- galaxy_RFE[-trainData3, ]"
      ],
      "execution_count": 0,
      "outputs": []
    },
    {
      "cell_type": "markdown",
      "metadata": {
        "id": "-dhxmQ3_CnY4",
        "colab_type": "text"
      },
      "source": [
        "## Random Forest model on galaxy_RFE"
      ]
    },
    {
      "cell_type": "code",
      "metadata": {
        "id": "d6r9uWG3Cp7C",
        "colab_type": "code",
        "colab": {}
      },
      "source": [
        "%%R\n",
        "fitControl <- trainControl(method = \"repeatedcv\",\n",
        "                           number = 10,\n",
        "                           repeats = 1)"
      ],
      "execution_count": 0,
      "outputs": []
    },
    {
      "cell_type": "code",
      "metadata": {
        "id": "U09f-9tvCvF_",
        "colab_type": "code",
        "colab": {}
      },
      "source": [
        "%%R\n",
        "rf_galaxy_RFE <- randomForest(galaxysentiment ~.,\n",
        "                              data = trainSet3,\n",
        "                              ntree = 100,\n",
        "                              mtry = 2,\n",
        "                              do.trace = TRUE,\n",
        "                              trControl = fitControl,\n",
        "                              imporve = 0.05,\n",
        "                              nodesize = 5)"
      ],
      "execution_count": 0,
      "outputs": []
    },
    {
      "cell_type": "markdown",
      "metadata": {
        "id": "lNCOQ6z4Cxue",
        "colab_type": "text"
      },
      "source": [
        "**Loading model rf_galaxy_RFE**"
      ]
    },
    {
      "cell_type": "code",
      "metadata": {
        "id": "_G21vpLfC1Ml",
        "colab_type": "code",
        "colab": {}
      },
      "source": [
        "%%R\n",
        "rf_galaxy_RFE <- readRDS(\"/content/gdrive/My Drive/Colab Notebooks/AWS/rf_galaxy_RFE.RDS\")"
      ],
      "execution_count": 0,
      "outputs": []
    },
    {
      "cell_type": "markdown",
      "metadata": {
        "id": "fNoYku6BC-nt",
        "colab_type": "text"
      },
      "source": [
        "**Testing Random Forest model on testSet3**"
      ]
    },
    {
      "cell_type": "code",
      "metadata": {
        "id": "PWZE8b69C_GK",
        "colab_type": "code",
        "colab": {}
      },
      "source": [
        "%%R\n",
        "RF_Pred_galaxy_RFE <- predict(rf_galaxy_RFE, newdata = testSet3)\n",
        "RF_CM_galaxy_RFE <- confusionMatrix(RF_Pred_galaxy_RFE, testSet3$galaxysentiment)"
      ],
      "execution_count": 0,
      "outputs": []
    },
    {
      "cell_type": "code",
      "metadata": {
        "id": "hKchZag1DBEm",
        "colab_type": "code",
        "outputId": "252af66f-e6c5-463c-9cbf-d6245815bf3f",
        "colab": {
          "base_uri": "https://localhost:8080/",
          "height": 52
        }
      },
      "source": [
        "%%R\n",
        "postResample(RF_Pred_galaxy_RFE, testSet2$galaxysentiment)"
      ],
      "execution_count": 0,
      "outputs": [
        {
          "output_type": "display_data",
          "data": {
            "text/plain": [
              "     Accuracy         Kappa \n",
              " 0.5188994600 -0.0004687257 \n"
            ]
          },
          "metadata": {
            "tags": []
          }
        }
      ]
    },
    {
      "cell_type": "markdown",
      "metadata": {
        "id": "0yEyLzQhDLvj",
        "colab_type": "text"
      },
      "source": [
        "## Gradient Boosting Trees model on galaxy_RFE"
      ]
    },
    {
      "cell_type": "code",
      "metadata": {
        "id": "K1AM78OjDOQv",
        "colab_type": "code",
        "colab": {}
      },
      "source": [
        "%%R\n",
        "myGrid <- expand.grid(n.trees = c(250), \n",
        "                      interaction.depth = 1, \n",
        "                      shrinkage = c(0.1),\n",
        "                      n.minobsinnode = 20)"
      ],
      "execution_count": 0,
      "outputs": []
    },
    {
      "cell_type": "code",
      "metadata": {
        "id": "IV17ZQ-NDROX",
        "colab_type": "code",
        "colab": {}
      },
      "source": [
        "%%R\n",
        "GB_galaxy_RFE <- train((galaxysentiment ~ .), \n",
        "                       data = trainSet3, \n",
        "                       method = \"gbm\",\n",
        "                       trControl = fitControl,\n",
        "                       tuneGrid = myGrid)"
      ],
      "execution_count": 0,
      "outputs": []
    },
    {
      "cell_type": "markdown",
      "metadata": {
        "id": "gnZJ3N8iDW61",
        "colab_type": "text"
      },
      "source": [
        "**Loading model GB_galaxy_RFE**"
      ]
    },
    {
      "cell_type": "code",
      "metadata": {
        "id": "qRQfLhRUDXwL",
        "colab_type": "code",
        "colab": {}
      },
      "source": [
        "%%R\n",
        "GB_galaxy_RFE <- readRDS(\"/content/gdrive/My Drive/Colab Notebooks/AWS/GB_galaxy_RFE.RDS\")"
      ],
      "execution_count": 0,
      "outputs": []
    },
    {
      "cell_type": "markdown",
      "metadata": {
        "id": "OvtstpxsDgEu",
        "colab_type": "text"
      },
      "source": [
        "**Testing Gradient Boosting Trees model on testSet3**"
      ]
    },
    {
      "cell_type": "code",
      "metadata": {
        "id": "SxPIykdhDhPn",
        "colab_type": "code",
        "colab": {}
      },
      "source": [
        "%%R\n",
        "GB_Pred_galaxy_RFE <- predict(GB_galaxy_RFE, newdata = testSet3)\n",
        "GB_CM_galaxy_RFE <- confusionMatrix(GB_Pred_galaxy_RFE, testSet3$galaxysentiment)"
      ],
      "execution_count": 0,
      "outputs": []
    },
    {
      "cell_type": "code",
      "metadata": {
        "id": "v8dHQJZ-Dkpk",
        "colab_type": "code",
        "outputId": "660a2eaf-154c-4144-ba1e-f0228f3347c1",
        "colab": {
          "base_uri": "https://localhost:8080/",
          "height": 52
        }
      },
      "source": [
        "%%R\n",
        "postResample(GB_Pred_galaxy_RFE, testSet3$galaxysentiment)"
      ],
      "execution_count": 0,
      "outputs": [
        {
          "output_type": "display_data",
          "data": {
            "text/plain": [
              " Accuracy     Kappa \n",
              "0.7647210 0.5189079 \n"
            ]
          },
          "metadata": {
            "tags": []
          }
        }
      ]
    },
    {
      "cell_type": "markdown",
      "metadata": {
        "id": "ooj7ELNYDr2i",
        "colab_type": "text"
      },
      "source": [
        "## SVM model on galaxy_RFE"
      ]
    },
    {
      "cell_type": "code",
      "metadata": {
        "id": "3I7OTfT4Dt30",
        "colab_type": "code",
        "colab": {}
      },
      "source": [
        "%%R\n",
        "fitControl <- trainControl(method = \"repeatedcv\",\n",
        "                           number = 10,\n",
        "                           repeats = 3,\n",
        "                           verboseIter = T)"
      ],
      "execution_count": 0,
      "outputs": []
    },
    {
      "cell_type": "code",
      "metadata": {
        "id": "sFaCVOc2DzkV",
        "colab_type": "code",
        "colab": {}
      },
      "source": [
        "svm_galaxy_RFE <- train(galaxysentiment ~., data = trainSet3,\n",
        "                        method = \"svmLinear\",\n",
        "                        trControl= fitControl,\n",
        "                        preProcess = c(\"center\", \"scale\"))"
      ],
      "execution_count": 0,
      "outputs": []
    },
    {
      "cell_type": "markdown",
      "metadata": {
        "id": "1ZBwUmePD6q9",
        "colab_type": "text"
      },
      "source": [
        "**Loading model svm_galaxy_RFE**"
      ]
    },
    {
      "cell_type": "code",
      "metadata": {
        "id": "0NjmaMG4Dol5",
        "colab_type": "code",
        "colab": {}
      },
      "source": [
        "%%R\n",
        "svm_galaxy_RFE <- readRDS(\"/content/gdrive/My Drive/Colab Notebooks/AWS/svm_galaxy_RFE.RDS\")"
      ],
      "execution_count": 0,
      "outputs": []
    },
    {
      "cell_type": "markdown",
      "metadata": {
        "id": "wHF3cubbEL3J",
        "colab_type": "text"
      },
      "source": [
        "**Testing SVM model on testSet3**"
      ]
    },
    {
      "cell_type": "code",
      "metadata": {
        "id": "h4aLVhW8EMeL",
        "colab_type": "code",
        "colab": {}
      },
      "source": [
        "%%R\n",
        "SVM_Pred_galaxy_RFE <- predict(svm_galaxy_RFE, newdata = testSet3)\n",
        "SVM_CM_galaxy_RFE <- confusionMatrix(SVM_Pred_galaxy_RFE, testSet3$galaxysentiment)"
      ],
      "execution_count": 0,
      "outputs": []
    },
    {
      "cell_type": "code",
      "metadata": {
        "id": "0-vcskhlEOd9",
        "colab_type": "code",
        "outputId": "fa0a85c9-ca66-44ce-9b23-74c3443b1851",
        "colab": {
          "base_uri": "https://localhost:8080/",
          "height": 52
        }
      },
      "source": [
        "%%R\n",
        "postResample(SVM_Pred_galaxy_NZV, testSet3$galaxysentiment)"
      ],
      "execution_count": 0,
      "outputs": [
        {
          "output_type": "display_data",
          "data": {
            "text/plain": [
              "   Accuracy       Kappa \n",
              " 0.51581383 -0.01382728 \n"
            ]
          },
          "metadata": {
            "tags": []
          }
        }
      ]
    },
    {
      "cell_type": "markdown",
      "metadata": {
        "id": "kWGX1panxel2",
        "colab_type": "text"
      },
      "source": [
        "## KKNN model on galaxy_RFE"
      ]
    },
    {
      "cell_type": "code",
      "metadata": {
        "id": "ONYGUe4BxgUQ",
        "colab_type": "code",
        "colab": {}
      },
      "source": [
        "%%R\n",
        "fitControl <- trainControl(method = \"repeatedcv\",\n",
        "                           number = 10,\n",
        "                           repeats = 1)"
      ],
      "execution_count": 0,
      "outputs": []
    },
    {
      "cell_type": "code",
      "metadata": {
        "id": "FJAjcEkfxkHo",
        "colab_type": "code",
        "colab": {}
      },
      "source": [
        "%%R\n",
        "kknn_galaxy_RFE <- train(iphonesentiment ~.,\n",
        "                         data = trainSet3,\n",
        "                         method = 'kknn',\n",
        "                         tuneLength = 5,\n",
        "                         trControl = fitControl)"
      ],
      "execution_count": 0,
      "outputs": []
    },
    {
      "cell_type": "markdown",
      "metadata": {
        "id": "QtLud9WQxnUx",
        "colab_type": "text"
      },
      "source": [
        "**Loading model kknn_galaxy**"
      ]
    },
    {
      "cell_type": "code",
      "metadata": {
        "id": "9GsaTn9Uxpp-",
        "colab_type": "code",
        "colab": {}
      },
      "source": [
        "%%R\n",
        "kknn_galaxy_RFE <- readRDS(\"/content/gdrive/My Drive/Colab Notebooks/AWS/kknn_galaxy_RFE.RDS\")"
      ],
      "execution_count": 0,
      "outputs": []
    },
    {
      "cell_type": "markdown",
      "metadata": {
        "id": "LKvEPc6nxyGc",
        "colab_type": "text"
      },
      "source": [
        "**Testing KKNN model on testSet3**"
      ]
    },
    {
      "cell_type": "code",
      "metadata": {
        "id": "ZUqp8UCoxzJI",
        "colab_type": "code",
        "colab": {}
      },
      "source": [
        "%%R\n",
        "kknn_Pred_galaxy_RFE <- predict(kknn_galaxy_RFE, newdata = testSet3)\n",
        "kknn_CM_galaxy_RFE <- confusionMatrix(kknn_Pred_galaxy_RFE, testSet3$galaxysentiment)"
      ],
      "execution_count": 0,
      "outputs": []
    },
    {
      "cell_type": "code",
      "metadata": {
        "id": "e580xMJ1x3Gw",
        "colab_type": "code",
        "outputId": "e7bbe3cd-8bba-493c-9b35-bc99611697a6",
        "colab": {
          "base_uri": "https://localhost:8080/",
          "height": 52
        }
      },
      "source": [
        "%%R\n",
        "postResample(kknn_Pred_galaxy_RFE, testSet3$galaxysentiment)"
      ],
      "execution_count": 0,
      "outputs": [
        {
          "output_type": "display_data",
          "data": {
            "text/plain": [
              " Accuracy     Kappa \n",
              "0.3476472 0.1855170 \n"
            ]
          },
          "metadata": {
            "tags": []
          }
        }
      ]
    },
    {
      "cell_type": "markdown",
      "metadata": {
        "id": "y-mZ4O1wEt4b",
        "colab_type": "text"
      },
      "source": [
        "# Importing galaxyLargeMatrix.csv"
      ]
    },
    {
      "cell_type": "code",
      "metadata": {
        "id": "Hm3CJbvCExfO",
        "colab_type": "code",
        "colab": {}
      },
      "source": [
        "%%R\n",
        "galaxy_data_large <- read_csv('/content/gdrive/My Drive/Colab Notebooks/AWS/galaxyLargeMatrix.csv')"
      ],
      "execution_count": 0,
      "outputs": []
    },
    {
      "cell_type": "markdown",
      "metadata": {
        "id": "FMuD-nFLFWPR",
        "colab_type": "text"
      },
      "source": [
        "**Changing data type of galaxysentiment to be factor**"
      ]
    },
    {
      "cell_type": "code",
      "metadata": {
        "id": "xb4TPQE1FWzk",
        "colab_type": "code",
        "colab": {}
      },
      "source": [
        "%%R\n",
        "galaxy_data_large$galaxysentiment <- as.factor(galaxy_data_large$galaxysentiment)"
      ],
      "execution_count": 0,
      "outputs": []
    },
    {
      "cell_type": "markdown",
      "metadata": {
        "id": "CYhldsh0zZLa",
        "colab_type": "text"
      },
      "source": [
        "# Since rf_galaxy_NZV has the highest accuracy of 0.7865, therefore, the prediction was based on it"
      ]
    },
    {
      "cell_type": "markdown",
      "metadata": {
        "id": "z7lYfc_zJuVP",
        "colab_type": "text"
      },
      "source": [
        "## Prediction with rf_galaxy_NZV model on galaxy_data_large"
      ]
    },
    {
      "cell_type": "code",
      "metadata": {
        "id": "wJGIk3fiJw6N",
        "colab_type": "code",
        "outputId": "f4d22f9c-d651-401b-d599-5c915edf5e6f",
        "colab": {
          "base_uri": "https://localhost:8080/",
          "height": 52
        }
      },
      "source": [
        "%%R\n",
        "prediction = predict(rf_galaxy_NZV, galaxy_data_large)\n",
        "galaxy_data_large[\"galaxysentiment\"] <- prediction\n",
        "summary(prediction)"
      ],
      "execution_count": 0,
      "outputs": [
        {
          "output_type": "display_data",
          "data": {
            "text/plain": [
              "    0     1     2     3     4     5 \n",
              "10529     0     0   117    27  7083 \n"
            ]
          },
          "metadata": {
            "tags": []
          }
        }
      ]
    },
    {
      "cell_type": "code",
      "metadata": {
        "id": "zlDmqiZxzn1l",
        "colab_type": "code",
        "outputId": "c307099a-0482-4c04-ba12-cca3422d6a5e",
        "colab": {
          "base_uri": "https://localhost:8080/",
          "height": 497
        }
      },
      "source": [
        "%%R\n",
        "plot(prediction)"
      ],
      "execution_count": 0,
      "outputs": [
        {
          "output_type": "display_data",
          "data": {
            "image/png": "[encoded data removed]"
          },
          "metadata": {
            "tags": []
          }
        }
      ]
    },
    {
      "cell_type": "markdown",
      "metadata": {
        "id": "zrWbbMGvSuY8",
        "colab_type": "text"
      },
      "source": [
        "**Having in the last histogram \"0 = very negative customer review, and 5 is very positive customer review\", then the prediction indicates that there are above 10,000 very negative reviews about Samsung Galaxy, and at the same time, there are above 7,000 very positive reviews. Only few reviews were centered around good & positive reviews**"
      ]
    }
  ]
}
{
  "nbformat": 4,
  "nbformat_minor": 0,
  "metadata": {
    "colab": {
      "name": "Sentiment_Analysis_iPhone.ipynb",
      "version": "0.3.2",
      "provenance": [],
      "collapsed_sections": [
        "e7nLikfLkd65",
        "R0LKtIrTmiCH",
        "2Q5jarBht2p_",
        "rxhXMt_f_R47",
        "61E_dI2a_uj_",
        "BmKU6tfD69Bf",
        "_W5MgSgr7EbE",
        "aZ57Q0f68lJv",
        "t1t1QRHz9RGS",
        "uhsxf-WR-zcc",
        "ln8pltfV0m8S",
        "pH6s3ahpA3Dg",
        "qcWY2BhgBVqV",
        "FPBQtt45B5nz",
        "h43RojW9pU_Z",
        "T5E5vI1wCfWm",
        "rjN5BBGH0dp6",
        "-dhxmQ3_CnY4",
        "0yEyLzQhDLvj",
        "ooj7ELNYDr2i",
        "kWGX1panxel2",
        "y-mZ4O1wEt4b",
        "z7lYfc_zJuVP"
      ],
      "include_colab_link": true
    },
    "kernelspec": {
      "name": "python3",
      "display_name": "Python 3"
    }
  },
  "cells": [
    {
      "cell_type": "markdown",
      "metadata": {
        "id": "view-in-github",
        "colab_type": "text"
      },
      "source": [
        "<a href=\"https://colab.research.google.com/github/bghata/Sentiment_Analysis/blob/master/Sentiment_Analysis_iPhone.ipynb\" target=\"_parent\"><img src=\"https://colab.research.google.com/assets/colab-badge.svg\" alt=\"Open In Colab\"/></a>"
      ]
    },
    {
      "cell_type": "code",
      "metadata": {
        "id": "-vrqFYlmkA93",
        "colab_type": "code",
        "colab": {}
      },
      "source": [
        "%reload_ext rpy2.ipython\n",
        "\n",
        "import warnings\n",
        "warnings.filterwarnings('ignore')"
      ],
      "execution_count": 0,
      "outputs": []
    },
    {
      "cell_type": "code",
      "metadata": {
        "id": "hbZwGncWkNmg",
        "colab_type": "code",
        "colab": {}
      },
      "source": [
        "%%R\n",
        "install.packages(\"pacman\")\n",
        "library(pacman)"
      ],
      "execution_count": 0,
      "outputs": []
    },
    {
      "cell_type": "markdown",
      "metadata": {
        "id": "e7nLikfLkd65",
        "colab_type": "text"
      },
      "source": [
        "## Loading libraries"
      ]
    },
    {
      "cell_type": "code",
      "metadata": {
        "id": "opI9vSa8khsq",
        "colab_type": "code",
        "colab": {}
      },
      "source": [
        "%%R\n",
        "pacman::p_load(readr, data.table, dplyr,caret, \n",
        "               ggplot2, plotly, lubridate, kernlab,\n",
        "               forecast, ggfortify, stats, tufte, \n",
        "               ggthemes, rapportools, fpp2, gbm, scatterplot3d,\n",
        "               reshape2, Hmisc, rio, VIM, class, spdep, \n",
        "               randomForest, magrittr, Matrix, foreach, \n",
        "               iterators, doParallel, corrplot, C50, e1071, kknn)"
      ],
      "execution_count": 0,
      "outputs": []
    },
    {
      "cell_type": "markdown",
      "metadata": {
        "id": "R0LKtIrTmiCH",
        "colab_type": "text"
      },
      "source": [
        "## Loading data"
      ]
    },
    {
      "cell_type": "code",
      "metadata": {
        "id": "hlPeXj-gquVu",
        "colab_type": "code",
        "colab": {}
      },
      "source": [
        "from google.colab import drive\n",
        "drive.mount('/content/gdrive')"
      ],
      "execution_count": 0,
      "outputs": []
    },
    {
      "cell_type": "code",
      "metadata": {
        "id": "iDZhqIHqqSNi",
        "colab_type": "code",
        "colab": {}
      },
      "source": [
        "%%R\n",
        "iphone_data <- read_csv('/content/gdrive/My Drive/Colab Notebooks/AWS/iphone_smallmatrix_labeled_8d.csv')"
      ],
      "execution_count": 0,
      "outputs": []
    },
    {
      "cell_type": "markdown",
      "metadata": {
        "id": "2Q5jarBht2p_",
        "colab_type": "text"
      },
      "source": [
        "## Feature selection"
      ]
    },
    {
      "cell_type": "markdown",
      "metadata": {
        "id": "scb91dVDt7My",
        "colab_type": "text"
      },
      "source": [
        "**Correlation matrix**"
      ]
    },
    {
      "cell_type": "markdown",
      "metadata": {
        "id": "IMCq0zubt-Gd",
        "colab_type": "text"
      },
      "source": [
        "**on iphone_data**"
      ]
    },
    {
      "cell_type": "code",
      "metadata": {
        "id": "51YzHkfPt_CA",
        "colab_type": "code",
        "outputId": "b5ca809d-d644-457a-85e8-a7a90762cfe5",
        "colab": {
          "base_uri": "https://localhost:8080/",
          "height": 497
        }
      },
      "source": [
        "%%R\n",
        "iphone_cor <- cor(iphone_data)\n",
        "corrplot(cor(iphone_cor), method=\"number\", type = \"upper\", \n",
        "tl.cex = 0.5, number.cex = 0.4)"
      ],
      "execution_count": 0,
      "outputs": [
        {
          "output_type": "display_data",
          "data": {
            "image/png": "[encoded data removed]"
          },
          "metadata": {
            "tags": []
          }
        }
      ]
    },
    {
      "cell_type": "markdown",
      "metadata": {
        "id": "rxhXMt_f_R47",
        "colab_type": "text"
      },
      "source": [
        "## Examine feature variance"
      ]
    },
    {
      "cell_type": "markdown",
      "metadata": {
        "id": "zlUtFjo9G3Ed",
        "colab_type": "text"
      },
      "source": [
        "**The distribution of values within a feature is related to how much information that feature holds in the data set. Features with no variance can be said to hold little to no information. Features that have very little, or \"near zero variance\", may or may not have useful information.**"
      ]
    },
    {
      "cell_type": "code",
      "metadata": {
        "id": "pDc4MmIl_TXe",
        "colab_type": "code",
        "colab": {}
      },
      "source": [
        "%%R\n",
        "nzvMetrics_iphone <- nearZeroVar(iphone_data, saveMetrics = TRUE)"
      ],
      "execution_count": 0,
      "outputs": []
    },
    {
      "cell_type": "markdown",
      "metadata": {
        "id": "n7zZ8B7Q_aqV",
        "colab_type": "text"
      },
      "source": [
        "**nearZeroVar() with saveMetrics = FALSE returns an vector**"
      ]
    },
    {
      "cell_type": "code",
      "metadata": {
        "id": "xWLvV2bc_b_y",
        "colab_type": "code",
        "colab": {}
      },
      "source": [
        "%%R\n",
        "nzv_iphone <- nearZeroVar(iphone_data, saveMetrics = FALSE) "
      ],
      "execution_count": 0,
      "outputs": []
    },
    {
      "cell_type": "markdown",
      "metadata": {
        "id": "E8VuCZQS_j9r",
        "colab_type": "text"
      },
      "source": [
        "**NZV - create a new data set and remove near zero variance features**"
      ]
    },
    {
      "cell_type": "code",
      "metadata": {
        "id": "f_0Aq5bw_k-s",
        "colab_type": "code",
        "colab": {}
      },
      "source": [
        "%%R\n",
        "iphone_NZV <- iphone_data[,-nzv_iphone]\n",
        "iphone_NZV$iphonesentiment <- as.factor(iphone_NZV$iphonesentiment)"
      ],
      "execution_count": 0,
      "outputs": []
    },
    {
      "cell_type": "markdown",
      "metadata": {
        "id": "61E_dI2a_uj_",
        "colab_type": "text"
      },
      "source": [
        "## Recursive Feature Elimination (RFE)"
      ]
    },
    {
      "cell_type": "markdown",
      "metadata": {
        "id": "3gxuWToh_ynZ",
        "colab_type": "text"
      },
      "source": [
        "**Sampling the data before using RFE**"
      ]
    },
    {
      "cell_type": "markdown",
      "metadata": {
        "id": "v2W8vN_7HP5v",
        "colab_type": "text"
      },
      "source": [
        "**RFE is a form of automated feature selection. RFE with random forest will try every combination of feature subsets and return a final list of recommended features.**"
      ]
    },
    {
      "cell_type": "markdown",
      "metadata": {
        "id": "qV74uVzU_3D8",
        "colab_type": "text"
      },
      "source": [
        "**On iphone**"
      ]
    },
    {
      "cell_type": "code",
      "metadata": {
        "id": "R9AQTgL5_4Kh",
        "colab_type": "code",
        "colab": {}
      },
      "source": [
        "%%R\n",
        "set.seed(123)\n",
        "iphone_data$iphonesentiment <- as.factor(iphone_data$iphonesentiment)\n",
        "iphoneSample <- iphone_data[sample(1:nrow(iphone_data), 1000, replace=FALSE),]"
      ],
      "execution_count": 0,
      "outputs": []
    },
    {
      "cell_type": "markdown",
      "metadata": {
        "id": "nsR1W_et_9kV",
        "colab_type": "text"
      },
      "source": [
        "**Set up rfeControl with randomforest, repeated cross validation and no updates**"
      ]
    },
    {
      "cell_type": "code",
      "metadata": {
        "id": "CTcYQ7lz_-eP",
        "colab_type": "code",
        "colab": {}
      },
      "source": [
        "%%R\n",
        "ctrl <- rfeControl(functions = rfFuncs, \n",
        "                   method = \"repeatedcv\",\n",
        "                   repeats = 5,\n",
        "                   verbose = FALSE)"
      ],
      "execution_count": 0,
      "outputs": []
    },
    {
      "cell_type": "markdown",
      "metadata": {
        "id": "OejYvpo_ACVx",
        "colab_type": "text"
      },
      "source": [
        "**Use rfe and omit the response variable (attribute 59 iphonesentiment)**"
      ]
    },
    {
      "cell_type": "code",
      "metadata": {
        "id": "RDIwqMbEADI_",
        "colab_type": "code",
        "colab": {}
      },
      "source": [
        "%%R\n",
        "rfeResults_iphone <- rfe(iphoneSample[,1:58], \n",
        "                  iphoneSample$iphonesentiment, \n",
        "                  sizes=(1:58), \n",
        "                  rfeControl=ctrl)\n",
        "rfeResults_iphone"
      ],
      "execution_count": 0,
      "outputs": []
    },
    {
      "cell_type": "markdown",
      "metadata": {
        "id": "fCuSiKho3aV6",
        "colab_type": "text"
      },
      "source": [
        "**Loading model rfeResults_iphone**"
      ]
    },
    {
      "cell_type": "code",
      "metadata": {
        "id": "hL9VDhKJ5BKB",
        "colab_type": "code",
        "colab": {}
      },
      "source": [
        "%%R\n",
        "rfeResults_iphone <- readRDS(\"/content/gdrive/My Drive/Colab Notebooks/AWS/rfeResults_iphone.RDS\")"
      ],
      "execution_count": 0,
      "outputs": []
    },
    {
      "cell_type": "markdown",
      "metadata": {
        "id": "tbaPDJJlMSpM",
        "colab_type": "text"
      },
      "source": [
        "**Plot results**"
      ]
    },
    {
      "cell_type": "code",
      "metadata": {
        "id": "JwpXMTCNMUiQ",
        "colab_type": "code",
        "outputId": "e59013b9-f768-4f15-a671-9185867a5bf1",
        "colab": {
          "base_uri": "https://localhost:8080/",
          "height": 497
        }
      },
      "source": [
        "%%R\n",
        "plot(rfeResults_iphone, type=c(\"g\", \"o\"))"
      ],
      "execution_count": 0,
      "outputs": [
        {
          "output_type": "display_data",
          "data": {
            "image/png": "[encoded data removed]"
          },
          "metadata": {
            "tags": []
          }
        }
      ]
    },
    {
      "cell_type": "markdown",
      "metadata": {
        "id": "Phw3aqqQ6hNn",
        "colab_type": "text"
      },
      "source": [
        "**Create new data set with rfe recommended features on iphone**"
      ]
    },
    {
      "cell_type": "code",
      "metadata": {
        "id": "sC9PZJv66juf",
        "colab_type": "code",
        "colab": {}
      },
      "source": [
        "%%R\n",
        "iphone_RFE <- iphone_data[, predictors(rfeResults_iphone)]"
      ],
      "execution_count": 0,
      "outputs": []
    },
    {
      "cell_type": "markdown",
      "metadata": {
        "id": "7g093pxu6pNz",
        "colab_type": "text"
      },
      "source": [
        "**Add dependent variable to iphone_RFE**"
      ]
    },
    {
      "cell_type": "code",
      "metadata": {
        "id": "O9osI9VD6p7O",
        "colab_type": "code",
        "colab": {}
      },
      "source": [
        "%%R\n",
        "iphone_RFE$iphonesentiment <- iphone_data$iphonesentiment"
      ],
      "execution_count": 0,
      "outputs": []
    },
    {
      "cell_type": "markdown",
      "metadata": {
        "id": "wOtsSWRN6vJY",
        "colab_type": "text"
      },
      "source": [
        "# Testing 4 different models on iphone"
      ]
    },
    {
      "cell_type": "markdown",
      "metadata": {
        "id": "BmKU6tfD69Bf",
        "colab_type": "text"
      },
      "source": [
        "## Data partition on iphone"
      ]
    },
    {
      "cell_type": "code",
      "metadata": {
        "id": "KX1vtVTe69sB",
        "colab_type": "code",
        "colab": {}
      },
      "source": [
        "%%R\n",
        "trainData1 <- createDataPartition(iphone_data$iphonesentiment,\n",
        "                                p=0.70,\n",
        "                                list = FALSE)\n",
        "trainSet1 <- iphone_data[trainData1, ]\n",
        "testSet1 <- iphone_data[-trainData1, ]"
      ],
      "execution_count": 0,
      "outputs": []
    },
    {
      "cell_type": "markdown",
      "metadata": {
        "id": "_W5MgSgr7EbE",
        "colab_type": "text"
      },
      "source": [
        "## Random Forest model on iphone"
      ]
    },
    {
      "cell_type": "code",
      "metadata": {
        "id": "Gz4y_f5g7FTt",
        "colab_type": "code",
        "colab": {}
      },
      "source": [
        "%%R\n",
        "fitControl <- trainControl(method = \"repeatedcv\",\n",
        "                     number = 10,\n",
        "                     repeats = 1)"
      ],
      "execution_count": 0,
      "outputs": []
    },
    {
      "cell_type": "code",
      "metadata": {
        "id": "ogh_ClVq7QOd",
        "colab_type": "code",
        "colab": {}
      },
      "source": [
        "rf_iphone <- randomForest(iphonesentiment ~.,\n",
        "                             data = trainSet1,\n",
        "                             ntree = 100,\n",
        "                             mtry = 2,\n",
        "                             do.trace = TRUE,\n",
        "                             trControl = fitControl,\n",
        "                             imporve = 0.05,\n",
        "                             nodesize = 5)"
      ],
      "execution_count": 0,
      "outputs": []
    },
    {
      "cell_type": "markdown",
      "metadata": {
        "id": "-Uvrc5847Vgj",
        "colab_type": "text"
      },
      "source": [
        "**Loading model rf_iphone**"
      ]
    },
    {
      "cell_type": "code",
      "metadata": {
        "id": "2KfA2-0d7Zq0",
        "colab_type": "code",
        "colab": {}
      },
      "source": [
        "%%R\n",
        "rf_iphone <- readRDS(\"/content/gdrive/My Drive/Colab Notebooks/AWS/rf_iphone.RDS\")"
      ],
      "execution_count": 0,
      "outputs": []
    },
    {
      "cell_type": "markdown",
      "metadata": {
        "id": "Gf_m1qpG7sgU",
        "colab_type": "text"
      },
      "source": [
        "**Testing Random Forest model on testSet1**"
      ]
    },
    {
      "cell_type": "code",
      "metadata": {
        "id": "mogFqO7N7tUS",
        "colab_type": "code",
        "colab": {}
      },
      "source": [
        "%%R\n",
        "RF_Pred_iphone <- predict(rf_iphone, newdata = testSet1)\n",
        "RF_CM_iphone <- confusionMatrix(RF_Pred_iphone, testSet1$iphonesentiment)"
      ],
      "execution_count": 0,
      "outputs": []
    },
    {
      "cell_type": "code",
      "metadata": {
        "id": "TEpSlhR28ONS",
        "colab_type": "code",
        "outputId": "b35cc14f-dd9f-4cae-c5a1-5efabf9349e2",
        "colab": {
          "base_uri": "https://localhost:8080/",
          "height": 52
        }
      },
      "source": [
        "%%R\n",
        "postResample(RF_Pred_iphone, testSet1$iphonesentiment)"
      ],
      "execution_count": 0,
      "outputs": [
        {
          "output_type": "display_data",
          "data": {
            "text/plain": [
              " Accuracy     Kappa \n",
              "0.6940874 0.3516046 \n"
            ]
          },
          "metadata": {
            "tags": []
          }
        }
      ]
    },
    {
      "cell_type": "markdown",
      "metadata": {
        "id": "aZ57Q0f68lJv",
        "colab_type": "text"
      },
      "source": [
        "## KKNN model on iphone"
      ]
    },
    {
      "cell_type": "code",
      "metadata": {
        "id": "0rjvwiJP8mS1",
        "colab_type": "code",
        "colab": {}
      },
      "source": [
        "%%R\n",
        "fitControl <- trainControl(method = \"repeatedcv\",\n",
        "                     number = 10,\n",
        "                     repeats = 1)"
      ],
      "execution_count": 0,
      "outputs": []
    },
    {
      "cell_type": "code",
      "metadata": {
        "id": "_IyYQBzI8v8Z",
        "colab_type": "code",
        "colab": {}
      },
      "source": [
        "%%R\n",
        "kknn_iphone <- train(iphonesentiment ~.,\n",
        "                               data = trainSet1,\n",
        "                               method = 'kknn',\n",
        "                               tuneLength = 5,\n",
        "                               trControl = fitControl)"
      ],
      "execution_count": 0,
      "outputs": []
    },
    {
      "cell_type": "markdown",
      "metadata": {
        "id": "TPBd7IIj8zNF",
        "colab_type": "text"
      },
      "source": [
        "**Loading model kknn_iphone**"
      ]
    },
    {
      "cell_type": "code",
      "metadata": {
        "id": "ey2yp21V8QlO",
        "colab_type": "code",
        "colab": {}
      },
      "source": [
        "%%R\n",
        "kknn_iphone <- readRDS(\"/content/gdrive/My Drive/Colab Notebooks/AWS/kknn_iphone.RDS\")"
      ],
      "execution_count": 0,
      "outputs": []
    },
    {
      "cell_type": "markdown",
      "metadata": {
        "id": "G3r58Sqx9D7H",
        "colab_type": "text"
      },
      "source": [
        "**Testing KKNN model on testSet1**"
      ]
    },
    {
      "cell_type": "code",
      "metadata": {
        "id": "9TlujxaH9ElN",
        "colab_type": "code",
        "colab": {}
      },
      "source": [
        "%%R\n",
        "kknn_Pred_iphone <- predict(kknn_iphone, newdata = testSet1)\n",
        "kknn_CM_iphone <- confusionMatrix(kknn_Pred_iphone, testSet1$iphonesentiment)"
      ],
      "execution_count": 0,
      "outputs": []
    },
    {
      "cell_type": "code",
      "metadata": {
        "id": "icOFp2fi9Iw4",
        "colab_type": "code",
        "outputId": "364df99d-3a47-47fc-b27d-3f11944cbba7",
        "colab": {
          "base_uri": "https://localhost:8080/",
          "height": 52
        }
      },
      "source": [
        "%%R\n",
        "postResample(kknn_Pred_iphone, testSet1$iphonesentiment)"
      ],
      "execution_count": 0,
      "outputs": [
        {
          "output_type": "display_data",
          "data": {
            "text/plain": [
              " Accuracy     Kappa \n",
              "0.3637532 0.1947588 \n"
            ]
          },
          "metadata": {
            "tags": []
          }
        }
      ]
    },
    {
      "cell_type": "markdown",
      "metadata": {
        "id": "t1t1QRHz9RGS",
        "colab_type": "text"
      },
      "source": [
        "## Gradient Boosting Trees model on iphone"
      ]
    },
    {
      "cell_type": "code",
      "metadata": {
        "id": "v6f--wve9Snx",
        "colab_type": "code",
        "colab": {}
      },
      "source": [
        "%%R\n",
        "myGrid <- expand.grid(n.trees = c(250), \n",
        "                      interaction.depth = 1, \n",
        "                      shrinkage = c(0.1),\n",
        "                      n.minobsinnode = 20"
      ],
      "execution_count": 0,
      "outputs": []
    },
    {
      "cell_type": "code",
      "metadata": {
        "id": "n8CcAO429a9x",
        "colab_type": "code",
        "colab": {}
      },
      "source": [
        "GB_iphone <- train((iphonesentiment ~ .), \n",
        "                      data = trainSet1, \n",
        "                      method = \"gbm\",\n",
        "                      trControl = fitControl,\n",
        "                      tuneGrid = myGrid)"
      ],
      "execution_count": 0,
      "outputs": []
    },
    {
      "cell_type": "markdown",
      "metadata": {
        "id": "P9-t89xs9ofs",
        "colab_type": "text"
      },
      "source": [
        "**Loading model GB_iphone**"
      ]
    },
    {
      "cell_type": "code",
      "metadata": {
        "id": "VKDzK8J39tcp",
        "colab_type": "code",
        "colab": {}
      },
      "source": [
        "%%R\n",
        "GB_iphone <- readRDS(\"/content/gdrive/My Drive/Colab Notebooks/AWS/GB_iphone.RDS\")"
      ],
      "execution_count": 0,
      "outputs": []
    },
    {
      "cell_type": "markdown",
      "metadata": {
        "id": "9CTqbR26-nWy",
        "colab_type": "text"
      },
      "source": [
        "**Testing Gradient Boosting Trees model on testSet1**"
      ]
    },
    {
      "cell_type": "code",
      "metadata": {
        "id": "ONbQUVZW-oMf",
        "colab_type": "code",
        "colab": {}
      },
      "source": [
        "%%R\n",
        "GB_Pred_iphone <- predict(GB_iphone, newdata = testSet1)\n",
        "GB_CM_iphone <- confusionMatrix(GB_Pred_iphone, testSet1$iphonesentiment)"
      ],
      "execution_count": 0,
      "outputs": []
    },
    {
      "cell_type": "code",
      "metadata": {
        "id": "8qE1ewGb-rij",
        "colab_type": "code",
        "outputId": "d3b53b6e-4f16-4a7d-e43d-c0d3e012d676",
        "colab": {
          "base_uri": "https://localhost:8080/",
          "height": 52
        }
      },
      "source": [
        "%%R\n",
        "postResample(GB_Pred_iphone, testSet1$iphonesentiment)"
      ],
      "execution_count": 0,
      "outputs": [
        {
          "output_type": "display_data",
          "data": {
            "text/plain": [
              " Accuracy     Kappa \n",
              "0.7516710 0.5093831 \n"
            ]
          },
          "metadata": {
            "tags": []
          }
        }
      ]
    },
    {
      "cell_type": "markdown",
      "metadata": {
        "id": "uhsxf-WR-zcc",
        "colab_type": "text"
      },
      "source": [
        "## SVM model on iphone"
      ]
    },
    {
      "cell_type": "code",
      "metadata": {
        "id": "f-lGahFs-067",
        "colab_type": "code",
        "colab": {}
      },
      "source": [
        "%%R\n",
        "fitControl <- trainControl(method = \"repeatedcv\",\n",
        "                           number = 10,\n",
        "                           repeats = 3,\n",
        "                           verboseIter = T)"
      ],
      "execution_count": 0,
      "outputs": []
    },
    {
      "cell_type": "code",
      "metadata": {
        "id": "qS5yzWTx-3GB",
        "colab_type": "code",
        "colab": {}
      },
      "source": [
        "%%R\n",
        "svm_iphone <- train(iphonesentiment ~., data = trainSet1,\n",
        "              method = \"svmLinear\",\n",
        "              trControl= fitControl,\n",
        "              preProcess = c(\"center\", \"scale\"))"
      ],
      "execution_count": 0,
      "outputs": []
    },
    {
      "cell_type": "markdown",
      "metadata": {
        "id": "Cd3PtS9D-7Sv",
        "colab_type": "text"
      },
      "source": [
        "**Loading model svm_iphone**"
      ]
    },
    {
      "cell_type": "code",
      "metadata": {
        "id": "YqlobA8l_DkY",
        "colab_type": "code",
        "colab": {}
      },
      "source": [
        "%%R\n",
        "svm_iphone <- readRDS(\"/content/gdrive/My Drive/Colab Notebooks/AWS/svm_iphone.RDS\")"
      ],
      "execution_count": 0,
      "outputs": []
    },
    {
      "cell_type": "markdown",
      "metadata": {
        "id": "zu0UJobJ_Nqf",
        "colab_type": "text"
      },
      "source": [
        "**Testing SVM model on testSet1**"
      ]
    },
    {
      "cell_type": "code",
      "metadata": {
        "id": "79oV5spa_OVP",
        "colab_type": "code",
        "colab": {}
      },
      "source": [
        "%%R\n",
        "SVM_Pred_iphone <- predict(svm_iphone, newdata = testSet1)\n",
        "SVM_CM_iphone <- confusionMatrix(SVM_Pred_iphone, testSet1$iphonesentiment)"
      ],
      "execution_count": 0,
      "outputs": []
    },
    {
      "cell_type": "code",
      "metadata": {
        "id": "Jsk7iMDz_YIc",
        "colab_type": "code",
        "outputId": "92d8bbb3-ecaa-4ab1-a6fd-f5aa0c754ebd",
        "colab": {
          "base_uri": "https://localhost:8080/",
          "height": 52
        }
      },
      "source": [
        "%%R\n",
        "postResample(SVM_Pred_iphone, testSet1$iphonesentiment)"
      ],
      "execution_count": 0,
      "outputs": [
        {
          "output_type": "display_data",
          "data": {
            "text/plain": [
              " Accuracy     Kappa \n",
              "0.6987147 0.3870698 \n"
            ]
          },
          "metadata": {
            "tags": []
          }
        }
      ]
    },
    {
      "cell_type": "markdown",
      "metadata": {
        "id": "LdRPXa9GAdUp",
        "colab_type": "text"
      },
      "source": [
        "# Testing all 4  models on iphone_NZV"
      ]
    },
    {
      "cell_type": "markdown",
      "metadata": {
        "id": "ln8pltfV0m8S",
        "colab_type": "text"
      },
      "source": [
        "## Data partition on iphone_NZV"
      ]
    },
    {
      "cell_type": "code",
      "metadata": {
        "id": "ACWv3KnxAjLN",
        "colab_type": "code",
        "colab": {}
      },
      "source": [
        "%%R\n",
        "trainData2 <- createDataPartition(iphone_NZV$iphonesentiment,\n",
        "                                  p=0.70,\n",
        "                                  list = FALSE)\n",
        "trainSet2 <- iphone_NZV[trainData2, ]\n",
        "testSet2 <- iphone_NZV[-trainData2, ]"
      ],
      "execution_count": 0,
      "outputs": []
    },
    {
      "cell_type": "markdown",
      "metadata": {
        "id": "pH6s3ahpA3Dg",
        "colab_type": "text"
      },
      "source": [
        "## Random Forest model on iphone_NZV"
      ]
    },
    {
      "cell_type": "code",
      "metadata": {
        "id": "o8lQLmCsA3yE",
        "colab_type": "code",
        "colab": {}
      },
      "source": [
        "%%R\n",
        "fitControl <- trainControl(method = \"repeatedcv\",\n",
        "                           number = 10,\n",
        "                           repeats = 1)"
      ],
      "execution_count": 0,
      "outputs": []
    },
    {
      "cell_type": "code",
      "metadata": {
        "id": "X0TGMAAtA57M",
        "colab_type": "code",
        "colab": {}
      },
      "source": [
        "%%R\n",
        "rf_iphone_NZV <- randomForest(iphonesentiment ~.,\n",
        "                          data = trainSet2,\n",
        "                          ntree = 100,\n",
        "                          mtry = 2,\n",
        "                          do.trace = TRUE,\n",
        "                          trControl = fitControl,\n",
        "                          imporve = 0.05,\n",
        "                          nodesize = 5)"
      ],
      "execution_count": 0,
      "outputs": []
    },
    {
      "cell_type": "markdown",
      "metadata": {
        "id": "wyOQwdNTA_ia",
        "colab_type": "text"
      },
      "source": [
        "**Loaading model rf_iphone_NZV**"
      ]
    },
    {
      "cell_type": "code",
      "metadata": {
        "id": "pfB2Q_a4BBxT",
        "colab_type": "code",
        "colab": {}
      },
      "source": [
        "%%R\n",
        "rf_iphone_NZV <- readRDS(\"/content/gdrive/My Drive/Colab Notebooks/AWS/rf_iphone_NZV.RDS\")"
      ],
      "execution_count": 0,
      "outputs": []
    },
    {
      "cell_type": "markdown",
      "metadata": {
        "id": "fGYckMyxBJ5L",
        "colab_type": "text"
      },
      "source": [
        "**Testing Random Forest model on testSet2**"
      ]
    },
    {
      "cell_type": "code",
      "metadata": {
        "id": "w88Vr3ePBKg8",
        "colab_type": "code",
        "colab": {}
      },
      "source": [
        "%%R\n",
        "RF_Pred_iphone_NZV <- predict(rf_iphone_NZV, newdata = testSet2)\n",
        "RF_CM_iphone_NZV <- confusionMatrix(RF_Pred_iphone_NZV, testSet2$iphonesentiment)"
      ],
      "execution_count": 0,
      "outputs": []
    },
    {
      "cell_type": "code",
      "metadata": {
        "id": "7v1_WE7IBQgm",
        "colab_type": "code",
        "outputId": "d391b1d5-da5b-4ec5-9ec7-d81ab975d799",
        "colab": {
          "base_uri": "https://localhost:8080/",
          "height": 52
        }
      },
      "source": [
        "%%R\n",
        "postResample(RF_Pred_iphone_NZV, testSet2$iphonesentiment)"
      ],
      "execution_count": 0,
      "outputs": [
        {
          "output_type": "display_data",
          "data": {
            "text/plain": [
              " Accuracy     Kappa \n",
              "0.7645244 0.5349137 \n"
            ]
          },
          "metadata": {
            "tags": []
          }
        }
      ]
    },
    {
      "cell_type": "markdown",
      "metadata": {
        "id": "qcWY2BhgBVqV",
        "colab_type": "text"
      },
      "source": [
        "## Gradient Boosting Trees model on iphone_NZV "
      ]
    },
    {
      "cell_type": "code",
      "metadata": {
        "id": "HU8vcqJTBXQY",
        "colab_type": "code",
        "colab": {}
      },
      "source": [
        "%%R\n",
        "myGrid <- expand.grid(n.trees = c(250), \n",
        "                      interaction.depth = 1, \n",
        "                      shrinkage = c(0.1),\n",
        "                      n.minobsinnode = 20)"
      ],
      "execution_count": 0,
      "outputs": []
    },
    {
      "cell_type": "code",
      "metadata": {
        "id": "iu2eZsUIBZf-",
        "colab_type": "code",
        "colab": {}
      },
      "source": [
        "%%R\n",
        "GB_iphone_NZV <- train((iphonesentiment ~ .), \n",
        "                   data = trainSet2, \n",
        "                   method = \"gbm\",\n",
        "                   trControl = fitControl,\n",
        "                   tuneGrid = myGrid)"
      ],
      "execution_count": 0,
      "outputs": []
    },
    {
      "cell_type": "code",
      "metadata": {
        "id": "R6-n6cWlBSn9",
        "colab_type": "code",
        "colab": {}
      },
      "source": [
        "%%R\n",
        "GB_iphone_NZV <- readRDS(\"/content/gdrive/My Drive/Colab Notebooks/AWS/GB_iphone_NZV.RDS\")"
      ],
      "execution_count": 0,
      "outputs": []
    },
    {
      "cell_type": "markdown",
      "metadata": {
        "id": "oEIPhfjSBptX",
        "colab_type": "text"
      },
      "source": [
        "**Testing Gradient Boosting Trees model on testSet2**"
      ]
    },
    {
      "cell_type": "code",
      "metadata": {
        "id": "U4S6N-FCBqQM",
        "colab_type": "code",
        "colab": {}
      },
      "source": [
        "%%R\n",
        "GB_Pred_iphone_NZV <- predict(GB_iphone_NZV, newdata = testSet2)\n",
        "GB_CM_iphone_NZV <- confusionMatrix(GB_Pred_iphone_NZV, testSet2$iphonesentiment)"
      ],
      "execution_count": 0,
      "outputs": []
    },
    {
      "cell_type": "code",
      "metadata": {
        "id": "gNV7Mp71BsMN",
        "colab_type": "code",
        "outputId": "8ac0e634-c90c-47ae-e61d-c54e4fa4236a",
        "colab": {
          "base_uri": "https://localhost:8080/",
          "height": 52
        }
      },
      "source": [
        "%%R\n",
        "postResample(GB_Pred_iphone_NZV, testSet2$iphonesentiment)"
      ],
      "execution_count": 0,
      "outputs": [
        {
          "output_type": "display_data",
          "data": {
            "text/plain": [
              " Accuracy     Kappa \n",
              "0.7334190 0.4660807 \n"
            ]
          },
          "metadata": {
            "tags": []
          }
        }
      ]
    },
    {
      "cell_type": "markdown",
      "metadata": {
        "id": "FPBQtt45B5nz",
        "colab_type": "text"
      },
      "source": [
        "## SVM model on iphone_NZV"
      ]
    },
    {
      "cell_type": "code",
      "metadata": {
        "id": "HaM-iQUhB6_P",
        "colab_type": "code",
        "colab": {}
      },
      "source": [
        "%%R\n",
        "fitControl <- trainControl(method = \"repeatedcv\",\n",
        "                           number = 10,\n",
        "                           repeats = 3,\n",
        "                           verboseIter = T)"
      ],
      "execution_count": 0,
      "outputs": []
    },
    {
      "cell_type": "code",
      "metadata": {
        "id": "kBhzldXMB99u",
        "colab_type": "code",
        "colab": {}
      },
      "source": [
        "%%R\n",
        "svm_iphone_NZV <- train(iphonesentiment ~., data = trainSet2,\n",
        "                        method = \"svmLinear\",\n",
        "                        trControl= fitControl,\n",
        "                        preProcess = c(\"center\", \"scale\"))"
      ],
      "execution_count": 0,
      "outputs": []
    },
    {
      "cell_type": "markdown",
      "metadata": {
        "id": "oMyXgbZACA-v",
        "colab_type": "text"
      },
      "source": [
        "**Loading model svm_iphone_NZV**"
      ]
    },
    {
      "cell_type": "code",
      "metadata": {
        "id": "SzZVmgC9CKZl",
        "colab_type": "code",
        "colab": {}
      },
      "source": [
        "%%R\n",
        "svm_iphone_NZV <- readRDS(\"/content/gdrive/My Drive/Colab Notebooks/AWS/svm_iphone_NZV.RDS\")"
      ],
      "execution_count": 0,
      "outputs": []
    },
    {
      "cell_type": "markdown",
      "metadata": {
        "id": "mvA_M6B6CRXJ",
        "colab_type": "text"
      },
      "source": [
        "**Testing SVM model on testSet2**"
      ]
    },
    {
      "cell_type": "code",
      "metadata": {
        "id": "ypDUarhTCSAV",
        "colab_type": "code",
        "colab": {}
      },
      "source": [
        "%%R\n",
        "SVM_Pred_iphone_NZV <- predict(svm_iphone_NZV, newdata = testSet2)\n",
        "SVM_CM_iphone_NZV <- confusionMatrix(SVM_Pred_iphone_NZV, testSet2$iphonesentiment)"
      ],
      "execution_count": 0,
      "outputs": []
    },
    {
      "cell_type": "code",
      "metadata": {
        "id": "b6JpeIICCTw7",
        "colab_type": "code",
        "outputId": "58874804-2cab-4a89-ffde-3841e8221ac4",
        "colab": {
          "base_uri": "https://localhost:8080/",
          "height": 52
        }
      },
      "source": [
        "%%R\n",
        "postResample(SVM_Pred_iphone_NZV, testSet2$iphonesentiment)"
      ],
      "execution_count": 0,
      "outputs": [
        {
          "output_type": "display_data",
          "data": {
            "text/plain": [
              " Accuracy     Kappa \n",
              "0.6789203 0.3370553 \n"
            ]
          },
          "metadata": {
            "tags": []
          }
        }
      ]
    },
    {
      "cell_type": "markdown",
      "metadata": {
        "id": "h43RojW9pU_Z",
        "colab_type": "text"
      },
      "source": [
        "## KKNN model on iphone_NZV"
      ]
    },
    {
      "cell_type": "code",
      "metadata": {
        "id": "LE_81_4cpXeP",
        "colab_type": "code",
        "colab": {}
      },
      "source": [
        "%%R\n",
        "fitControl <- trainControl(method = \"repeatedcv\",\n",
        "                     number = 10,\n",
        "                     repeats = 1)"
      ],
      "execution_count": 0,
      "outputs": []
    },
    {
      "cell_type": "code",
      "metadata": {
        "id": "VZG2Juhfpkqt",
        "colab_type": "code",
        "colab": {}
      },
      "source": [
        "%%R\n",
        "kknn_iphone_NZV <- train(iphonesentiment ~.,\n",
        "                               data = trainSet2,\n",
        "                               method = 'kknn',\n",
        "                               tuneLength = 5,\n",
        "                               trControl = fitControl)"
      ],
      "execution_count": 0,
      "outputs": []
    },
    {
      "cell_type": "markdown",
      "metadata": {
        "id": "jaVIJPKgtpSO",
        "colab_type": "text"
      },
      "source": [
        "**Loading model kknn_iphone_NZV**"
      ]
    },
    {
      "cell_type": "code",
      "metadata": {
        "id": "07HN1h1Oprpf",
        "colab_type": "code",
        "colab": {}
      },
      "source": [
        "%%R\n",
        "kknn_iphone_NZV <- readRDS(\"/content/gdrive/My Drive/Colab Notebooks/AWS/kknn_iphone_NZV.RDS\")"
      ],
      "execution_count": 0,
      "outputs": []
    },
    {
      "cell_type": "markdown",
      "metadata": {
        "id": "qk5e2gAIuHff",
        "colab_type": "text"
      },
      "source": [
        "**Testing KKNN model on testSet2**"
      ]
    },
    {
      "cell_type": "code",
      "metadata": {
        "id": "khmpN2dGuIuw",
        "colab_type": "code",
        "colab": {}
      },
      "source": [
        "%%R\n",
        "kknn_Pred_iphone_NZV <- predict(kknn_iphone_NZV, newdata = testSet2)\n",
        "kknn_CM_iphone_NZV <- confusionMatrix(kknn_Pred_iphone_NZV, testSet2$iphonesentiment)"
      ],
      "execution_count": 0,
      "outputs": []
    },
    {
      "cell_type": "code",
      "metadata": {
        "id": "BnWR74tyuTv9",
        "colab_type": "code",
        "outputId": "a3a0ec57-2f35-4d8f-f5d7-6859074c807b",
        "colab": {
          "base_uri": "https://localhost:8080/",
          "height": 52
        }
      },
      "source": [
        "%%R\n",
        "postResample(kknn_Pred_iphone_NZV, testSet2$iphonesentiment)"
      ],
      "execution_count": 0,
      "outputs": [
        {
          "output_type": "display_data",
          "data": {
            "text/plain": [
              " Accuracy     Kappa \n",
              "0.3133676 0.1361982 \n"
            ]
          },
          "metadata": {
            "tags": []
          }
        }
      ]
    },
    {
      "cell_type": "markdown",
      "metadata": {
        "id": "T5E5vI1wCfWm",
        "colab_type": "text"
      },
      "source": [
        "# Testing all 4 models on iphone_RFE"
      ]
    },
    {
      "cell_type": "markdown",
      "metadata": {
        "id": "rjN5BBGH0dp6",
        "colab_type": "text"
      },
      "source": [
        "## Data partition on iphone_RFE"
      ]
    },
    {
      "cell_type": "code",
      "metadata": {
        "id": "5iGqxcvdCgnC",
        "colab_type": "code",
        "colab": {}
      },
      "source": [
        "%%R\n",
        "trainData3 <- createDataPartition(iphone_RFE$iphonesentiment,\n",
        "                                  p=0.70,\n",
        "                                  list = FALSE)\n",
        "trainSet3 <- iphone_RFE[trainData3, ]\n",
        "testSet3 <- iphone_RFE[-trainData3, ]"
      ],
      "execution_count": 0,
      "outputs": []
    },
    {
      "cell_type": "markdown",
      "metadata": {
        "id": "-dhxmQ3_CnY4",
        "colab_type": "text"
      },
      "source": [
        "## Random Forest model on iphone_RFE"
      ]
    },
    {
      "cell_type": "code",
      "metadata": {
        "id": "d6r9uWG3Cp7C",
        "colab_type": "code",
        "colab": {}
      },
      "source": [
        "%%R\n",
        "fitControl <- trainControl(method = \"repeatedcv\",\n",
        "                           number = 10,\n",
        "                           repeats = 1)"
      ],
      "execution_count": 0,
      "outputs": []
    },
    {
      "cell_type": "code",
      "metadata": {
        "id": "U09f-9tvCvF_",
        "colab_type": "code",
        "colab": {}
      },
      "source": [
        "%%R\n",
        "rf_iphone_RFE <- randomForest(iphonesentiment ~.,\n",
        "                              data = trainSet3,\n",
        "                              ntree = 100,\n",
        "                              mtry = 2,\n",
        "                              do.trace = TRUE,\n",
        "                              trControl = fitControl,\n",
        "                              imporve = 0.05,\n",
        "                              nodesize = 5)"
      ],
      "execution_count": 0,
      "outputs": []
    },
    {
      "cell_type": "markdown",
      "metadata": {
        "id": "lNCOQ6z4Cxue",
        "colab_type": "text"
      },
      "source": [
        "**Loading model rf_iphone_RFE**"
      ]
    },
    {
      "cell_type": "code",
      "metadata": {
        "id": "_G21vpLfC1Ml",
        "colab_type": "code",
        "colab": {}
      },
      "source": [
        "%%R\n",
        "rf_iphone_RFE <- readRDS(\"/content/gdrive/My Drive/Colab Notebooks/AWS/rf_iphone_RFE.RDS\")"
      ],
      "execution_count": 0,
      "outputs": []
    },
    {
      "cell_type": "markdown",
      "metadata": {
        "id": "fNoYku6BC-nt",
        "colab_type": "text"
      },
      "source": [
        "**Testing Random Forest model on testSet3**"
      ]
    },
    {
      "cell_type": "code",
      "metadata": {
        "id": "PWZE8b69C_GK",
        "colab_type": "code",
        "colab": {}
      },
      "source": [
        "%%R\n",
        "RF_Pred_iphone_RFE <- predict(rf_iphone_RFE, newdata = testSet3)\n",
        "RF_CM_iphone_RFE <- confusionMatrix(RF_Pred_iphone_RFE, testSet3$iphonesentiment)"
      ],
      "execution_count": 0,
      "outputs": []
    },
    {
      "cell_type": "code",
      "metadata": {
        "id": "hKchZag1DBEm",
        "colab_type": "code",
        "outputId": "ef00cc30-3992-40e8-a160-b04a528b0d1f",
        "colab": {
          "base_uri": "https://localhost:8080/",
          "height": 52
        }
      },
      "source": [
        "%%R\n",
        "postResample(RF_Pred_iphone_RFE, testSet2$iphonesentiment)"
      ],
      "execution_count": 0,
      "outputs": [
        {
          "output_type": "display_data",
          "data": {
            "text/plain": [
              "    Accuracy        Kappa \n",
              "0.5007712082 0.0004136285 \n"
            ]
          },
          "metadata": {
            "tags": []
          }
        }
      ]
    },
    {
      "cell_type": "markdown",
      "metadata": {
        "id": "0yEyLzQhDLvj",
        "colab_type": "text"
      },
      "source": [
        "## Gradient Boosting Trees model on iphone_RFE"
      ]
    },
    {
      "cell_type": "code",
      "metadata": {
        "id": "K1AM78OjDOQv",
        "colab_type": "code",
        "colab": {}
      },
      "source": [
        "%%R\n",
        "myGrid <- expand.grid(n.trees = c(250), \n",
        "                      interaction.depth = 1, \n",
        "                      shrinkage = c(0.1),\n",
        "                      n.minobsinnode = 20)"
      ],
      "execution_count": 0,
      "outputs": []
    },
    {
      "cell_type": "code",
      "metadata": {
        "id": "IV17ZQ-NDROX",
        "colab_type": "code",
        "colab": {}
      },
      "source": [
        "%%R\n",
        "GB_iphone_RFE <- train((iphonesentiment ~ .), \n",
        "                       data = trainSet3, \n",
        "                       method = \"gbm\",\n",
        "                       trControl = fitControl,\n",
        "                       tuneGrid = myGrid)"
      ],
      "execution_count": 0,
      "outputs": []
    },
    {
      "cell_type": "markdown",
      "metadata": {
        "id": "gnZJ3N8iDW61",
        "colab_type": "text"
      },
      "source": [
        "**Loading model GB_iphone_RFE**"
      ]
    },
    {
      "cell_type": "code",
      "metadata": {
        "id": "qRQfLhRUDXwL",
        "colab_type": "code",
        "colab": {}
      },
      "source": [
        "%%R\n",
        "GB_iphone_RFE <- readRDS(\"/content/gdrive/My Drive/Colab Notebooks/AWS/GB_iphone_RFE.RDS\")"
      ],
      "execution_count": 0,
      "outputs": []
    },
    {
      "cell_type": "markdown",
      "metadata": {
        "id": "OvtstpxsDgEu",
        "colab_type": "text"
      },
      "source": [
        "**Testing Gradient Boosting Trees model on testSet3**"
      ]
    },
    {
      "cell_type": "code",
      "metadata": {
        "id": "SxPIykdhDhPn",
        "colab_type": "code",
        "colab": {}
      },
      "source": [
        "%%R\n",
        "GB_Pred_iphone_RFE <- predict(GB_iphone_RFE, newdata = testSet3)\n",
        "GB_CM_iphone_RFE <- confusionMatrix(GB_Pred_iphone_RFE, testSet3$iphonesentiment)"
      ],
      "execution_count": 0,
      "outputs": []
    },
    {
      "cell_type": "code",
      "metadata": {
        "id": "v8dHQJZ-Dkpk",
        "colab_type": "code",
        "outputId": "59a9338f-0be4-4450-cb36-3f9ac8479ead",
        "colab": {
          "base_uri": "https://localhost:8080/",
          "height": 52
        }
      },
      "source": [
        "%%R\n",
        "postResample(GB_Pred_iphone_RFE, testSet3$iphonesentiment)"
      ],
      "execution_count": 0,
      "outputs": [
        {
          "output_type": "display_data",
          "data": {
            "text/plain": [
              " Accuracy     Kappa \n",
              "0.7493573 0.5071155 \n"
            ]
          },
          "metadata": {
            "tags": []
          }
        }
      ]
    },
    {
      "cell_type": "markdown",
      "metadata": {
        "id": "ooj7ELNYDr2i",
        "colab_type": "text"
      },
      "source": [
        "## SVM model on iphone_RFE"
      ]
    },
    {
      "cell_type": "code",
      "metadata": {
        "id": "3I7OTfT4Dt30",
        "colab_type": "code",
        "colab": {}
      },
      "source": [
        "%%R\n",
        "fitControl <- trainControl(method = \"repeatedcv\",\n",
        "                           number = 10,\n",
        "                           repeats = 3,\n",
        "                           verboseIter = T)"
      ],
      "execution_count": 0,
      "outputs": []
    },
    {
      "cell_type": "code",
      "metadata": {
        "id": "sFaCVOc2DzkV",
        "colab_type": "code",
        "colab": {}
      },
      "source": [
        "svm_iphone_RFE <- train(iphonesentiment ~., data = trainSet3,\n",
        "                        method = \"svmLinear\",\n",
        "                        trControl= fitControl,\n",
        "                        preProcess = c(\"center\", \"scale\"))"
      ],
      "execution_count": 0,
      "outputs": []
    },
    {
      "cell_type": "markdown",
      "metadata": {
        "id": "1ZBwUmePD6q9",
        "colab_type": "text"
      },
      "source": [
        "**Loading model svm_iphone_RFE**"
      ]
    },
    {
      "cell_type": "code",
      "metadata": {
        "id": "0NjmaMG4Dol5",
        "colab_type": "code",
        "colab": {}
      },
      "source": [
        "%%R\n",
        "svm_iphone_RFE <- readRDS(\"/content/gdrive/My Drive/Colab Notebooks/AWS/svm_iphone_RFE.RDS\")"
      ],
      "execution_count": 0,
      "outputs": []
    },
    {
      "cell_type": "markdown",
      "metadata": {
        "id": "wHF3cubbEL3J",
        "colab_type": "text"
      },
      "source": [
        "**Testing SVM model on testSet3**"
      ]
    },
    {
      "cell_type": "code",
      "metadata": {
        "id": "h4aLVhW8EMeL",
        "colab_type": "code",
        "colab": {}
      },
      "source": [
        "%%R\n",
        "SVM_Pred_iphone_RFE <- predict(svm_iphone_RFE, newdata = testSet3)\n",
        "SVM_CM_iphone_RFE <- confusionMatrix(SVM_Pred_iphone_RFE, testSet3$iphonesentiment)"
      ],
      "execution_count": 0,
      "outputs": []
    },
    {
      "cell_type": "code",
      "metadata": {
        "id": "0-vcskhlEOd9",
        "colab_type": "code",
        "outputId": "bf564a48-1bf2-4149-ed48-c77166572097",
        "colab": {
          "base_uri": "https://localhost:8080/",
          "height": 52
        }
      },
      "source": [
        "%%R\n",
        "postResample(SVM_Pred_iphone_NZV, testSet3$iphonesentiment)"
      ],
      "execution_count": 0,
      "outputs": [
        {
          "output_type": "display_data",
          "data": {
            "text/plain": [
              "   Accuracy       Kappa \n",
              "0.516452442 0.001602029 \n"
            ]
          },
          "metadata": {
            "tags": []
          }
        }
      ]
    },
    {
      "cell_type": "markdown",
      "metadata": {
        "id": "kWGX1panxel2",
        "colab_type": "text"
      },
      "source": [
        "## KKNN model on iphone_RFE"
      ]
    },
    {
      "cell_type": "code",
      "metadata": {
        "id": "ONYGUe4BxgUQ",
        "colab_type": "code",
        "colab": {}
      },
      "source": [
        "%%R\n",
        "fitControl <- trainControl(method = \"repeatedcv\",\n",
        "                           number = 10,\n",
        "                           repeats = 1)"
      ],
      "execution_count": 0,
      "outputs": []
    },
    {
      "cell_type": "code",
      "metadata": {
        "id": "FJAjcEkfxkHo",
        "colab_type": "code",
        "colab": {}
      },
      "source": [
        "%%R\n",
        "kknn_iphone_RFE <- train(iphonesentiment ~.,\n",
        "                         data = trainSet3,\n",
        "                         method = 'kknn',\n",
        "                         tuneLength = 5,\n",
        "                         trControl = fitControl)"
      ],
      "execution_count": 0,
      "outputs": []
    },
    {
      "cell_type": "markdown",
      "metadata": {
        "id": "QtLud9WQxnUx",
        "colab_type": "text"
      },
      "source": [
        "**Loading model kknn_iphone**"
      ]
    },
    {
      "cell_type": "code",
      "metadata": {
        "id": "9GsaTn9Uxpp-",
        "colab_type": "code",
        "colab": {}
      },
      "source": [
        "%%R\n",
        "kknn_iphone_RFE <- readRDS(\"/content/gdrive/My Drive/Colab Notebooks/AWS/kknn_iphone_RFE.RDS\")"
      ],
      "execution_count": 0,
      "outputs": []
    },
    {
      "cell_type": "markdown",
      "metadata": {
        "id": "LKvEPc6nxyGc",
        "colab_type": "text"
      },
      "source": [
        "**Testing KKNN model on testSet3**"
      ]
    },
    {
      "cell_type": "code",
      "metadata": {
        "id": "ZUqp8UCoxzJI",
        "colab_type": "code",
        "colab": {}
      },
      "source": [
        "%%R\n",
        "kknn_Pred_iphone_RFE <- predict(kknn_iphone_RFE, newdata = testSet3)\n",
        "kknn_CM_iphone_RFE <- confusionMatrix(kknn_Pred_iphone_RFE, testSet3$iphonesentiment)"
      ],
      "execution_count": 0,
      "outputs": []
    },
    {
      "cell_type": "code",
      "metadata": {
        "id": "e580xMJ1x3Gw",
        "colab_type": "code",
        "outputId": "fb8e8357-691c-499b-eaa0-732153c6cb86",
        "colab": {
          "base_uri": "https://localhost:8080/",
          "height": 52
        }
      },
      "source": [
        "%%R\n",
        "postResample(kknn_Pred_iphone_RFE, testSet3$iphonesentiment)"
      ],
      "execution_count": 0,
      "outputs": [
        {
          "output_type": "display_data",
          "data": {
            "text/plain": [
              " Accuracy     Kappa \n",
              "0.3583548 0.1883747 \n"
            ]
          },
          "metadata": {
            "tags": []
          }
        }
      ]
    },
    {
      "cell_type": "markdown",
      "metadata": {
        "id": "y-mZ4O1wEt4b",
        "colab_type": "text"
      },
      "source": [
        "# Importing iphoneLargeMatrix.csv"
      ]
    },
    {
      "cell_type": "code",
      "metadata": {
        "id": "Hm3CJbvCExfO",
        "colab_type": "code",
        "colab": {}
      },
      "source": [
        "%%R\n",
        "iphone_data_large <- read_csv('/content/gdrive/My Drive/Colab Notebooks/AWS/iphoneLargeMatrix.csv')"
      ],
      "execution_count": 0,
      "outputs": []
    },
    {
      "cell_type": "markdown",
      "metadata": {
        "id": "FMuD-nFLFWPR",
        "colab_type": "text"
      },
      "source": [
        "**Changing data type of iphonesentiment to be factor**"
      ]
    },
    {
      "cell_type": "code",
      "metadata": {
        "id": "xb4TPQE1FWzk",
        "colab_type": "code",
        "colab": {}
      },
      "source": [
        "%%R\n",
        "iphone_data_large$iphonesentiment <- as.factor(iphone_data_large$iphonesentiment)"
      ],
      "execution_count": 0,
      "outputs": []
    },
    {
      "cell_type": "markdown",
      "metadata": {
        "id": "CYhldsh0zZLa",
        "colab_type": "text"
      },
      "source": [
        "# Since rf_iphone_NZV has the highest accuracy of 0.7645, therefore, the prediction was based on it"
      ]
    },
    {
      "cell_type": "markdown",
      "metadata": {
        "id": "z7lYfc_zJuVP",
        "colab_type": "text"
      },
      "source": [
        "## Prediction with rf_iphone_NZV model on iphone_data_large"
      ]
    },
    {
      "cell_type": "code",
      "metadata": {
        "id": "wJGIk3fiJw6N",
        "colab_type": "code",
        "outputId": "8165b218-cf5e-47f7-8e92-547e394c0394",
        "colab": {
          "base_uri": "https://localhost:8080/",
          "height": 52
        }
      },
      "source": [
        "%%R\n",
        "prediction = predict(rf_iphone_NZV, iphone_data_large)\n",
        "iphone_data_large[\"iphonesentiment\"] <- prediction\n",
        "summary(prediction)"
      ],
      "execution_count": 0,
      "outputs": [
        {
          "output_type": "display_data",
          "data": {
            "text/plain": [
              "    0     1     2     3     4     5 \n",
              "10466     0     0   118    26  7146 \n"
            ]
          },
          "metadata": {
            "tags": []
          }
        }
      ]
    },
    {
      "cell_type": "code",
      "metadata": {
        "id": "zlDmqiZxzn1l",
        "colab_type": "code",
        "outputId": "2e88be42-bda0-44ff-e3e2-d13b6af17e40",
        "colab": {
          "base_uri": "https://localhost:8080/",
          "height": 497
        }
      },
      "source": [
        "%%R\n",
        "plot(prediction)"
      ],
      "execution_count": 0,
      "outputs": [
        {
          "output_type": "display_data",
          "data": {
            "image/png": "[encoded data removed]"
          },
          "metadata": {
            "tags": []
          }
        }
      ]
    }
  ]
}
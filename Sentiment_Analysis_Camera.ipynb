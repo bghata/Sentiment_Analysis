{
  "nbformat": 4,
  "nbformat_minor": 0,
  "metadata": {
    "colab": {
      "name": "Sentiment_Analysis_Camera.ipynb",
      "version": "0.3.2",
      "provenance": [],
      "collapsed_sections": [],
      "include_colab_link": true
    },
    "kernelspec": {
      "name": "python3",
      "display_name": "Python 3"
    }
  },
  "cells": [
    {
      "cell_type": "markdown",
      "metadata": {
        "id": "view-in-github",
        "colab_type": "text"
      },
      "source": [
        "<a href=\"https://colab.research.google.com/github/bghata/Sentiment_Analysis/blob/master/Sentiment_Analysis_Camera.ipynb\" target=\"_parent\"><img src=\"https://colab.research.google.com/assets/colab-badge.svg\" alt=\"Open In Colab\"/></a>"
      ]
    },
    {
      "cell_type": "code",
      "metadata": {
        "id": "-vrqFYlmkA93",
        "colab_type": "code",
        "colab": {}
      },
      "source": [
        "%reload_ext rpy2.ipython\n",
        "\n",
        "import warnings\n",
        "warnings.filterwarnings('ignore')"
      ],
      "execution_count": 0,
      "outputs": []
    },
    {
      "cell_type": "code",
      "metadata": {
        "id": "hbZwGncWkNmg",
        "colab_type": "code",
        "colab": {}
      },
      "source": [
        "%%R\n",
        "install.packages(\"pacman\")\n",
        "library(pacman)"
      ],
      "execution_count": 0,
      "outputs": []
    },
    {
      "cell_type": "markdown",
      "metadata": {
        "id": "e7nLikfLkd65",
        "colab_type": "text"
      },
      "source": [
        "## Loading libraries"
      ]
    },
    {
      "cell_type": "code",
      "metadata": {
        "id": "opI9vSa8khsq",
        "colab_type": "code",
        "colab": {}
      },
      "source": [
        "%%R\n",
        "pacman::p_load(readr, dplyr, caret, ggplot2)"
      ],
      "execution_count": 0,
      "outputs": []
    },
    {
      "cell_type": "markdown",
      "metadata": {
        "id": "R0LKtIrTmiCH",
        "colab_type": "text"
      },
      "source": [
        "## Loading data"
      ]
    },
    {
      "cell_type": "code",
      "metadata": {
        "id": "hlPeXj-gquVu",
        "colab_type": "code",
        "colab": {}
      },
      "source": [
        "from google.colab import drive\n",
        "drive.mount('/content/gdrive')"
      ],
      "execution_count": 0,
      "outputs": []
    },
    {
      "cell_type": "code",
      "metadata": {
        "id": "iDZhqIHqqSNi",
        "colab_type": "code",
        "colab": {}
      },
      "source": [
        "%%R\n",
        "iphone_data <- read_csv('/content/gdrive/My Drive/Colab Notebooks/AWS/iphone_smallmatrix_labeled_8d.csv')\n",
        "galaxy_data <- read_csv('/content/gdrive/My Drive/Colab Notebooks/AWS/galaxy_smallmatrix_labeled_8d.csv')"
      ],
      "execution_count": 0,
      "outputs": []
    },
    {
      "cell_type": "markdown",
      "metadata": {
        "id": "04o_AcpJF02_",
        "colab_type": "text"
      },
      "source": [
        "## Extracting variables related to iphone and galaxy, excluding iphonesentiment"
      ]
    },
    {
      "cell_type": "code",
      "metadata": {
        "id": "qxBfIKIcF5L9",
        "colab_type": "code",
        "colab": {}
      },
      "source": [
        "%%R\n",
        "iphone_galaxy_data <- iphone_data %>% select(contains(\"iphone\"),\n",
        "                         contains(\"samsung\"),\n",
        "                         contains(\"ios\"),\n",
        "                         contains(\"google\"))"
      ],
      "execution_count": 0,
      "outputs": []
    },
    {
      "cell_type": "code",
      "metadata": {
        "id": "gHcef6SpGCb2",
        "colab_type": "code",
        "colab": {}
      },
      "source": [
        "%%R\n",
        "iphone_galaxy_data$iphonesentiment <- NULL"
      ],
      "execution_count": 0,
      "outputs": []
    },
    {
      "cell_type": "code",
      "metadata": {
        "id": "dnKKKEKIGGLD",
        "colab_type": "code",
        "colab": {}
      },
      "source": [
        "%%R\n",
        "iphone_galaxy_pos_neg <- iphone_galaxy_data %>% \n",
        "                          select(ends_with(\"pos\"), \n",
        "                                 ends_with(\"neg\"))"
      ],
      "execution_count": 0,
      "outputs": []
    },
    {
      "cell_type": "code",
      "metadata": {
        "id": "rj9bJAWzGIwE",
        "colab_type": "code",
        "colab": {}
      },
      "source": [
        "%%R\n",
        "means <- colMeans(iphone_galaxy_pos_neg)"
      ],
      "execution_count": 0,
      "outputs": []
    },
    {
      "cell_type": "code",
      "metadata": {
        "id": "zHAMPD7EGK4k",
        "colab_type": "code",
        "colab": {}
      },
      "source": [
        "%%R\n",
        "variable_names <-\n",
        "  c(\"iphonecampos\",\n",
        "    \"iphonedispos\",\n",
        "    \"iphoneperpos\",\n",
        "    \"samsungcampos\",\n",
        "    \"samsungdispos\",\n",
        "    \"samsungperpos\",\n",
        "    \"osperpos\",\n",
        "    \"googleperpos\",\n",
        "    \"iphonecamneg\",\n",
        "    \"iphonedisneg\",\n",
        "    \"phoneperneg\",\n",
        "    \"samsungcamneg\",\n",
        "    \"samsungdisneg\",\n",
        "    \"samsungperneg\",\n",
        "    \"iosperneg\",\n",
        "    \"googleperneg\")"
      ],
      "execution_count": 0,
      "outputs": []
    },
    {
      "cell_type": "code",
      "metadata": {
        "id": "XDRBg_ErGN4O",
        "colab_type": "code",
        "colab": {}
      },
      "source": [
        "%%R\n",
        "variables_means <-\n",
        "  c(0.31042224,\n",
        "    0.45769370,\n",
        "    0.35116041,\n",
        "    0.15103496,\n",
        "    0.18437820,\n",
        "    0.12386517,\n",
        "    0.14027269,\n",
        "    0.05222673,\n",
        "    0.13825889,\n",
        "    0.24489122,\n",
        "    0.22158397,\n",
        "    0.07807600,\n",
        "    0.11316893,\n",
        "    0.08411739,\n",
        "    0.08626325,\n",
        "    0.04149747)"
      ],
      "execution_count": 0,
      "outputs": []
    },
    {
      "cell_type": "code",
      "metadata": {
        "id": "YBTcnN1_GQ53",
        "colab_type": "code",
        "colab": {}
      },
      "source": [
        "%%R\n",
        "variables_means2 <- data.frame(Feature = names(means), Mean = means, row.names = NULL)"
      ],
      "execution_count": 0,
      "outputs": []
    },
    {
      "cell_type": "code",
      "metadata": {
        "id": "_tkoWuodGUE5",
        "colab_type": "code",
        "colab": {}
      },
      "source": [
        "%%R\n",
        "variables_means2$Feature <- as.factor(variables_means2$Feature)"
      ],
      "execution_count": 0,
      "outputs": []
    },
    {
      "cell_type": "markdown",
      "metadata": {
        "id": "PA1CY1PNGZAI",
        "colab_type": "text"
      },
      "source": [
        "## Plotting positive reviews based on camera"
      ]
    },
    {
      "cell_type": "code",
      "metadata": {
        "id": "u7y_i4bTGkSR",
        "colab_type": "code",
        "colab": {}
      },
      "source": [
        "%%R\n",
        "cam_pos <- variables_means2[c(1,4),]"
      ],
      "execution_count": 0,
      "outputs": []
    },
    {
      "cell_type": "code",
      "metadata": {
        "id": "dNbwnkwfGlJI",
        "colab_type": "code",
        "colab": {}
      },
      "source": [
        "%%R\n",
        "cam_pos$Phones <- c(\"iPhone\", \"Galaxy\")"
      ],
      "execution_count": 0,
      "outputs": []
    },
    {
      "cell_type": "code",
      "metadata": {
        "id": "mczWFqBwGaX6",
        "colab_type": "code",
        "outputId": "ad241eac-456c-473e-85b4-5e150c49e1db",
        "colab": {
          "base_uri": "https://localhost:8080/",
          "height": 497
        }
      },
      "source": [
        "%%R\n",
        "cam_pos_plot <- ggplot(cam_pos, aes(x = Feature, y = Mean, fill = Phones)) + \n",
        "  geom_bar(stat = \"identity\") +\n",
        "  ggtitle(\"Mean of positive reviews based on Camera\") +\n",
        "  theme(plot.title = element_text(hjust = 0.5), \n",
        "        axis.title.x = element_blank(),  \n",
        "        axis.text.x = element_blank(), \n",
        "        axis.ticks.x = element_blank(), \n",
        "        axis.title.y = element_blank(), \n",
        "        panel.background = element_blank(), \n",
        "        panel.grid = element_blank(), \n",
        "        plot.background = element_blank(), \n",
        "        strip.background = element_blank())\n",
        "\n",
        "cam_pos_plot"
      ],
      "execution_count": 0,
      "outputs": [
        {
          "output_type": "display_data",
          "data": {
            "image/png": "[encoded data removed]"
          },
          "metadata": {
            "tags": []
          }
        }
      ]
    },
    {
      "cell_type": "markdown",
      "metadata": {
        "id": "X5sW3djKE9cu",
        "colab_type": "text"
      },
      "source": [
        "**The plot shows that iPhone has by far more negative reviews based on camera compared to Samsung Galaxy**"
      ]
    },
    {
      "cell_type": "markdown",
      "metadata": {
        "id": "585bt0JsGrtT",
        "colab_type": "text"
      },
      "source": [
        "## Plotting negative reviews based on camera"
      ]
    },
    {
      "cell_type": "code",
      "metadata": {
        "id": "gmaIfDKyGstE",
        "colab_type": "code",
        "colab": {}
      },
      "source": [
        "%%R\n",
        "cam_neg <- variables_means2[c(9, 12),]"
      ],
      "execution_count": 0,
      "outputs": []
    },
    {
      "cell_type": "code",
      "metadata": {
        "id": "MUEPxOktGvq9",
        "colab_type": "code",
        "colab": {}
      },
      "source": [
        "%%R\n",
        "Phones <- c(\"iPhone\", \"Galaxy\")"
      ],
      "execution_count": 0,
      "outputs": []
    },
    {
      "cell_type": "code",
      "metadata": {
        "id": "5iRhR1VJGxpm",
        "colab_type": "code",
        "colab": {}
      },
      "source": [
        "%%R\n",
        "cam_neg <- cbind(Phones, cam_neg)"
      ],
      "execution_count": 0,
      "outputs": []
    },
    {
      "cell_type": "code",
      "metadata": {
        "id": "BasDQJM6Gzin",
        "colab_type": "code",
        "outputId": "dde48c1d-5dc1-45e2-bb0b-305c802d1bc4",
        "colab": {
          "base_uri": "https://localhost:8080/",
          "height": 497
        }
      },
      "source": [
        "%%R\n",
        "cam_neg_plot <- ggplot(cam_neg, aes(x = Feature, y = Mean, fill = Phones)) + \n",
        "  geom_bar(stat = \"identity\") +\n",
        "  ggtitle(\"Mean of negative reviews based on Camera\") +\n",
        "  theme(plot.title = element_text(hjust = 0.5), \n",
        "        axis.title.x = element_blank(),  \n",
        "        axis.text.x = element_blank(), \n",
        "        axis.ticks.x = element_blank(), \n",
        "        axis.title.y = element_blank(), \n",
        "        panel.background = element_blank(), \n",
        "        panel.grid = element_blank(), \n",
        "        plot.background = element_blank(), \n",
        "        strip.background = element_blank())\n",
        "\n",
        "cam_neg_plot"
      ],
      "execution_count": 0,
      "outputs": [
        {
          "output_type": "display_data",
          "data": {
            "image/png": "[encoded data removed]"
          },
          "metadata": {
            "tags": []
          }
        }
      ]
    }
  ]
}